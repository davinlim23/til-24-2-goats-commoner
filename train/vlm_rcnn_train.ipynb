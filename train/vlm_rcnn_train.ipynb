{
 "cells": [
  {
   "cell_type": "code",
   "execution_count": 15,
   "id": "2be80d91-8076-4e77-acd1-3d19830dbc85",
   "metadata": {
    "tags": []
   },
   "outputs": [],
   "source": [
    "import os\n",
    "import gc\n",
    "import random\n",
    "\n",
    "import numpy as np\n",
    "import pandas as pd\n",
    "import matplotlib.pyplot as plt\n",
    "import torch\n",
    "import torchvision\n",
    "from PIL import Image\n",
    "from torch.utils.data import Dataset, DataLoader, random_split\n",
    "from torchvision import models, transforms as T\n",
    "from torchvision.models.detection.faster_rcnn import FastRCNNPredictor\n",
    "from tqdm.notebook import tqdm"
   ]
  },
  {
   "cell_type": "code",
   "execution_count": 16,
   "id": "36b80f9f-79f5-4eaa-bbe3-f245ed2872f7",
   "metadata": {
    "tags": []
   },
   "outputs": [
    {
     "data": {
      "text/plain": [
       "<torch._C.Generator at 0x7f5de4514d30>"
      ]
     },
     "execution_count": 16,
     "metadata": {},
     "output_type": "execute_result"
    }
   ],
   "source": [
    "pd.set_option('display.max_colwidth', None)\n",
    "\n",
    "random.seed(42)\n",
    "np.random.seed(42)\n",
    "torch.manual_seed(42)"
   ]
  },
  {
   "cell_type": "markdown",
   "id": "16d22055-7ba2-4d19-902c-7ab4163f9bc4",
   "metadata": {},
   "source": [
    "# Load and Split Data"
   ]
  },
  {
   "cell_type": "code",
   "execution_count": 17,
   "id": "43b4a1a3-0cce-4554-8bc6-145c72925d2d",
   "metadata": {
    "tags": []
   },
   "outputs": [
    {
     "name": "stdout",
     "output_type": "stream",
     "text": [
      "7\n"
     ]
    },
    {
     "data": {
      "text/plain": [
       "'others'"
      ]
     },
     "execution_count": 17,
     "metadata": {},
     "output_type": "execute_result"
    }
   ],
   "source": [
    "data = pd.read_json(os.path.join(\"advanced\", \"vlm.jsonl\"), lines=True)\n",
    "\n",
    "# build unique classes in dataset\n",
    "id2label = [\"background\", \"missile\", \"aircraft\", \"helicopter\", \"fighter\", \"drone\", \"others\"]\n",
    "label2id = {}\n",
    "for idx, label in enumerate(id2label):\n",
    "    label2id[label] = idx\n",
    "print(len(id2label))\n",
    "id2label[6]"
   ]
  },
  {
   "cell_type": "code",
   "execution_count": 18,
   "id": "8f9b27ce-a479-4c55-9b85-9998431927f8",
   "metadata": {
    "tags": []
   },
   "outputs": [],
   "source": [
    "data_splits = {}\n",
    "data_splits[\"train\"], data_splits[\"val\"] = random_split(data.to_dict(orient=\"index\"), [0.8, 0.2])\n",
    "# data_splits[\"train\"][0]"
   ]
  },
  {
   "cell_type": "code",
   "execution_count": 19,
   "id": "77145676-67f1-439d-b6d9-034c60da1f38",
   "metadata": {
    "tags": []
   },
   "outputs": [],
   "source": [
    "class AddGaussianNoise(object):\n",
    "    def __init__(self, mean=0., std=1.):\n",
    "        self.std = std\n",
    "        self.mean = mean\n",
    "        \n",
    "    def __call__(self, tensor):\n",
    "        num = random.randint(5, 100)\n",
    "        \n",
    "        if num % 5 == 0:\n",
    "            return tensor + torch.randn(tensor.size()) * self.std + self.mean\n",
    "        \n",
    "        return tensor\n",
    "    \n",
    "    def __repr__(self):\n",
    "        return self.__class__.__name__ + '(mean={0}, std={1})'.format(self.mean, self.std)"
   ]
  },
  {
   "cell_type": "code",
   "execution_count": 20,
   "id": "0b848f1a-f96a-4365-8a15-e33529778638",
   "metadata": {
    "tags": []
   },
   "outputs": [],
   "source": [
    "transforms = {\n",
    "    \"train\": T.Compose([\n",
    "        T.Resize(224),\n",
    "        T.ToTensor(),\n",
    "        T.Normalize([0.4986, 0.5428, 0.5563], [0.2721, 0.2717, 0.3078]),\n",
    "        # AddGaussianNoise(0., 1.)\n",
    "    ]),\n",
    "    \"valid\": T.Compose([\n",
    "        T.Resize(224),\n",
    "        T.ToTensor(),\n",
    "        T.Normalize([0.4986, 0.5428, 0.5563], [0.2721, 0.2717, 0.3078]),\n",
    "        # AddGaussianNoise(0., 1.)\n",
    "    ])\n",
    "}"
   ]
  },
  {
   "cell_type": "code",
   "execution_count": 21,
   "id": "d17e8566-d985-4486-b6cd-6cf43bcb4d49",
   "metadata": {
    "tags": []
   },
   "outputs": [],
   "source": [
    "class VLMDataset(Dataset):\n",
    "    def __init__(self, data, label2id, id2label, transform=None):   \n",
    "        self.data = pd.DataFrame([row for row in data])\n",
    "        self.label2id = label2id\n",
    "        self.id2label = id2label\n",
    "        self.transform = transform\n",
    "\n",
    "        # extract features\n",
    "        self.img_paths = self.data[\"image\"].apply(lambda file: os.path.join(\"advanced\", \"images\", file + \"\"))\n",
    "        self.img_bboxes = self.data[\"annotations\"].apply(lambda annos: [anno[\"bbox\"] for anno in annos])\n",
    "        self.img_labels = []\n",
    "        for annos in self.data[\"annotations\"]:\n",
    "            labels = []\n",
    "\n",
    "            for anno in annos:\n",
    "                words = anno[\"caption\"].split(\" \")\n",
    "                label = None\n",
    "                \n",
    "                for word in words:\n",
    "                    if word in self.label2id.keys():\n",
    "                        label = self.label2id[word]\n",
    "                        \n",
    "                if label is None:\n",
    "                    label = self.label2id[\"others\"]\n",
    "                \n",
    "                labels.append(label)\n",
    "                    \n",
    "            self.img_labels.append(labels)\n",
    "                \n",
    "    def __getitem__(self, idx):\n",
    "        # load image standardized to RGB and transform image\n",
    "        img = Image.open(self.img_paths[idx]).convert(\"RGB\")\n",
    "        img_wh = img.size\n",
    "        \n",
    "        if self.transform:\n",
    "            img = self.transform(img)\n",
    "            \n",
    "            # get resize scale \n",
    "            x_scale = img.shape[2] / img_wh[0]\n",
    "            y_scale = img.shape[1] / img_wh[1]\n",
    "            \n",
    "            # get resized bboxes\n",
    "            bboxes = []\n",
    "            for bbox in self.img_bboxes[idx]:\n",
    "                x, y, w, h = bbox\n",
    "                x1, y1, x2, y2 = x, y, x + w, y + h\n",
    "                resized_bbox = [int(x1 * x_scale), int(y1 * y_scale), int(x2 * x_scale), int(y2 * y_scale)]\n",
    "                bboxes.append(resized_bbox)\n",
    "\n",
    "        # populate target with ground truths\n",
    "        target = {\n",
    "            \"boxes\": torch.as_tensor(bboxes),\n",
    "            \"labels\": torch.as_tensor(self.img_labels[idx])\n",
    "        }\n",
    "\n",
    "        return img, target\n",
    "\n",
    "    def __len__(self):\n",
    "        return len(self.img_paths)\n",
    "    \n",
    "    def __iter__(self):\n",
    "        worker_info = torch.utils.data.get_worker_info()\n",
    "        \n",
    "        if worker_info is None:\n",
    "            return map(self.__getitem__, range(self.__len__()))\n",
    "\n",
    "        per_worker = int(math.ceil((self.__len__()) / float(worker_info.num_workers)))\n",
    "        worker_id = worker_info.id\n",
    "        iter_start = worker_id * per_worker\n",
    "        iter_end = min(iter_start + per_worker, self.__len__())\n",
    "        return map(self.__getitem__, range(iter_start, iter_end))"
   ]
  },
  {
   "cell_type": "code",
   "execution_count": 22,
   "id": "fd0faea7-050a-4901-ade3-1b9724942114",
   "metadata": {
    "tags": []
   },
   "outputs": [
    {
     "name": "stderr",
     "output_type": "stream",
     "text": [
      "Clipping input data to the valid range for imshow with RGB data ([0..1] for floats or [0..255] for integers).\n"
     ]
    },
    {
     "name": "stdout",
     "output_type": "stream",
     "text": [
      "0       advanced/images/image_4040.jpg\n",
      "1       advanced/images/image_3948.jpg\n",
      "2       advanced/images/image_1578.jpg\n",
      "3       advanced/images/image_3185.jpg\n",
      "4       advanced/images/image_3172.jpg\n",
      "                     ...              \n",
      "4081    advanced/images/image_1738.jpg\n",
      "4082    advanced/images/image_3977.jpg\n",
      "4083    advanced/images/image_1353.jpg\n",
      "4084    advanced/images/image_1175.jpg\n",
      "4085    advanced/images/image_4862.jpg\n",
      "Name: image, Length: 4086, dtype: object\n",
      "0        advanced/images/image_489.jpg\n",
      "1       advanced/images/image_1898.jpg\n",
      "2       advanced/images/image_1785.jpg\n",
      "3       advanced/images/image_2988.jpg\n",
      "4       advanced/images/image_4201.jpg\n",
      "                     ...              \n",
      "1016     advanced/images/image_243.jpg\n",
      "1017    advanced/images/image_4495.jpg\n",
      "1018    advanced/images/image_4478.jpg\n",
      "1019    advanced/images/image_3027.jpg\n",
      "1020     advanced/images/image_930.jpg\n",
      "Name: image, Length: 1021, dtype: object\n"
     ]
    },
    {
     "data": {
      "text/plain": [
       "(tensor([[[0.7474, 0.7330, 0.7041,  ..., 0.9491, 0.9347, 0.9347],\n",
       "          [0.7474, 0.7474, 0.7474,  ..., 0.9491, 0.9491, 0.9491],\n",
       "          [0.7474, 0.7330, 0.7330,  ..., 0.9636, 0.9491, 0.9491],\n",
       "          ...,\n",
       "          [0.7474, 0.7618, 0.7906,  ..., 0.6609, 0.6753, 0.7041],\n",
       "          [0.7330, 0.7474, 0.7906,  ..., 0.6321, 0.6609, 0.6897],\n",
       "          [0.7330, 0.7330, 0.7618,  ..., 0.6897, 0.6753, 0.6465]],\n",
       " \n",
       "         [[0.7301, 0.7157, 0.6868,  ..., 0.8745, 0.8745, 0.8745],\n",
       "          [0.6868, 0.6868, 0.6868,  ..., 0.8600, 0.8600, 0.8745],\n",
       "          [0.6724, 0.6724, 0.6580,  ..., 0.8600, 0.8600, 0.8889],\n",
       "          ...,\n",
       "          [0.7301, 0.7301, 0.7301,  ..., 0.6724, 0.6868, 0.6868],\n",
       "          [0.7157, 0.7301, 0.7301,  ..., 0.6435, 0.6580, 0.6868],\n",
       "          [0.7157, 0.7157, 0.7157,  ..., 0.6724, 0.6724, 0.6580]],\n",
       " \n",
       "         [[0.7280, 0.7280, 0.7153,  ..., 0.8809, 0.8809, 0.8809],\n",
       "          [0.7280, 0.7408, 0.7408,  ..., 0.8555, 0.8682, 0.8809],\n",
       "          [0.7280, 0.7280, 0.7153,  ..., 0.8555, 0.8555, 0.8682],\n",
       "          ...,\n",
       "          [0.7153, 0.7026, 0.7026,  ..., 0.6643, 0.6643, 0.6771],\n",
       "          [0.7153, 0.7026, 0.7026,  ..., 0.6516, 0.6516, 0.6643],\n",
       "          [0.7026, 0.6898, 0.6771,  ..., 0.6643, 0.6643, 0.6261]]]),\n",
       " {'boxes': tensor([[107,  38, 116,  47],\n",
       "          [288,  79, 299,  87],\n",
       "          [ 96,  74, 113,  86],\n",
       "          [278,  45, 288,  52],\n",
       "          [198,  49, 209,  59],\n",
       "          [205, 138, 225, 148],\n",
       "          [ 66, 125,  79, 138],\n",
       "          [219,  57, 243,  67]]),\n",
       "  'labels': tensor([4, 5, 4, 3, 4, 5, 1, 5])})"
      ]
     },
     "execution_count": 22,
     "metadata": {},
     "output_type": "execute_result"
    },
    {
     "data": {
      "image/png": "[encoded data removed]",
      "text/plain": [
       "<Figure size 640x480 with 1 Axes>"
      ]
     },
     "metadata": {},
     "output_type": "display_data"
    }
   ],
   "source": [
    "datasets = {\n",
    "    \"train\": VLMDataset(data_splits[\"train\"], label2id, id2label, transform=transforms[\"valid\"]),\n",
    "    \"val\": VLMDataset(data_splits[\"val\"], label2id, id2label, transform=transforms[\"valid\"]),\n",
    "}\n",
    "plt.imshow(datasets[\"train\"][104][0].permute(1, 2, 0))\n",
    "print(datasets[\"train\"].img_paths)\n",
    "print(datasets[\"val\"].img_paths)\n",
    "datasets[\"train\"][0]"
   ]
  },
  {
   "cell_type": "code",
   "execution_count": 23,
   "id": "c0495f5e-9f0b-41da-bfaf-34539577f88d",
   "metadata": {
    "tags": []
   },
   "outputs": [],
   "source": [
    "# imgs = torch.stack([img for img, target in datasets[\"train\"]])\n",
    "\n",
    "# mean = torch.mean(imgs, dim=(0, 2, 3))\n",
    "# std = torch.std(imgs, dim=(0, 2, 3))\n",
    "# print(mean)\n",
    "# print(std)"
   ]
  },
  {
   "cell_type": "markdown",
   "id": "2542404a-095b-406e-966e-997759e5341e",
   "metadata": {},
   "source": [
    "# Training"
   ]
  },
  {
   "cell_type": "code",
   "execution_count": 24,
   "id": "b0b39987-9a03-4d9e-8545-b1571b442232",
   "metadata": {},
   "outputs": [],
   "source": [
    "class VLMModelWrapper:\n",
    "    def __init__(self, model, n_classes, device=\"cpu\", weights=None, optimizer=None, scheduler=None, epochs=None, save_dir=None):\n",
    "        self.model = model\n",
    "        self.device = device\n",
    "        self.n_classes = n_classes\n",
    "        self.weights = weights\n",
    "        self.config_model(n_classes, weights)\n",
    "        self.optimizer = optimizer\n",
    "        self.scheduler = scheduler\n",
    "        self.epochs = epochs\n",
    "        self.save_dir = save_dir\n",
    "\n",
    "        # store losses for plotting\n",
    "        self.train_losses = []\n",
    "        self.val_losses = []\n",
    "\n",
    "    def config_model(self, out_classes, weights):\n",
    "        # configurate last layer of bbox predictor\n",
    "        in_feats_bbox = self.model.roi_heads.box_predictor.cls_score.in_features\n",
    "        self.model.roi_heads.box_predictor = FastRCNNPredictor(in_feats_bbox, out_classes)\n",
    "\n",
    "        if weights is not None:\n",
    "            self.model.load_state_dict(weights)\n",
    "\n",
    "        self.model.to(self.device)\n",
    "\n",
    "    def fit(self, train_loader, val_loader):\n",
    "        if self.epochs is None or self.optimizer is None:\n",
    "            raise ValueError(\"Missing parameters \\\"epochs/optimizer\\\"\")\n",
    "\n",
    "        best_epoch = None\n",
    "        best_loss = None\n",
    "\n",
    "        for epoch in range(self.epochs):\n",
    "            print(f\"---------- Epoch {epoch}/{self.epochs - 1} ----------\")\n",
    "\n",
    "            train_loss = self.train(train_loader)\n",
    "            if self.scheduler:\n",
    "                self.scheduler.step()\n",
    "            val_loss = self.validate(val_loader)\n",
    "\n",
    "            self.train_losses.append(train_loss)\n",
    "            self.val_losses.append(val_loss)\n",
    "            print(f\"\\nTrain Loss: {train_loss}\")\n",
    "            print(f\"Validation Loss: {val_loss}\")\n",
    "\n",
    "            if best_loss is None or best_loss > val_loss:\n",
    "                print(f\"Best Epoch Validation Loss: {best_loss} -> {val_loss}\")\n",
    "                best_epoch = epoch\n",
    "                best_loss = val_loss\n",
    "                best_weights = self.model.state_dict()\n",
    "\n",
    "                # save model checkpoints just in case\n",
    "                if not os.path.exists(self.save_dir):\n",
    "                    os.makedirs(self.save_dir)\n",
    "\n",
    "                torch.save(best_weights, os.path.join(self.save_dir, \"cp_model.pt\"))\n",
    "                \n",
    "            print(\"\")\n",
    "            \n",
    "        return best_epoch, best_loss, best_weights\n",
    "\n",
    "    def train(self, dataloader):\n",
    "        # set model to training mode\n",
    "        self.model.train()\n",
    "\n",
    "        avg_loss = 0\n",
    "\n",
    "        for batch in tqdm(dataloader):\n",
    "            imgs = batch[0].to(self.device)\n",
    "            targets = [{k: v.to(self.device) for k, v in t.items() if k != \"image_id\"} for t in batch[1]]\n",
    "            outputs = self.model(imgs, targets)\n",
    "\n",
    "            # get the average loss of the classifier, bbox predictor, mask predictor\n",
    "            loss = sum(l for l in outputs.values())\n",
    "            self.optimizer.zero_grad()\n",
    "            loss.backward()\n",
    "            self.optimizer.step()\n",
    "            avg_loss += loss.detach()\n",
    "\n",
    "        return avg_loss / len(dataloader)\n",
    "\n",
    "    def validate(self, dataloader):\n",
    "        # set model to train mode to retrieve losses, but do not calculate gradients\n",
    "        self.model.train()\n",
    "\n",
    "        avg_loss = 0\n",
    "\n",
    "        # do not record computations for computing the gradient\n",
    "        with torch.no_grad():\n",
    "            for batch in tqdm(dataloader):\n",
    "                imgs = batch[0].to(self.device)\n",
    "                targets = [{k: v.to(self.device) for k, v in t.items() if k != \"image_id\"} for t in batch[1]]\n",
    "\n",
    "                outputs = self.model(imgs, targets)\n",
    "\n",
    "                # get the average loss of the classifier, bbox predictor, mask predictor\n",
    "                loss = sum(l for l in outputs.values())\n",
    "                avg_loss += loss.detach()\n",
    "\n",
    "        return avg_loss / len(dataloader)"
   ]
  },
  {
   "cell_type": "code",
   "execution_count": 25,
   "id": "a50fec25-850e-4f06-b54c-a4c3e923e5f4",
   "metadata": {
    "tags": []
   },
   "outputs": [],
   "source": [
    "def collate_fn(batch):\n",
    "    imgs = torch.stack([img for img, target in batch])\n",
    "    targets = [target for img, target in batch]\n",
    "    return [imgs, targets]"
   ]
  },
  {
   "cell_type": "code",
   "execution_count": 40,
   "id": "5dbfe016-d396-48b8-b63d-b9a7cd226c4b",
   "metadata": {
    "tags": []
   },
   "outputs": [],
   "source": [
    "# configuations\n",
    "save_dir = os.path.join(\"models\", \"rcnn\")\n",
    "device = \"cuda\" if torch.cuda.is_available() else \"cpu\"\n",
    "n_classes = len(id2label)\n",
    "epochs = 30\n",
    "batch_size = 4\n",
    "lr = 1e-3\n",
    "wd = 0.0001\n",
    "# step_size = 5\n",
    "# gamma = 0.1"
   ]
  },
  {
   "cell_type": "code",
   "execution_count": 41,
   "id": "fc37d5e4-e74e-433b-8a26-14a9bacbdc03",
   "metadata": {
    "tags": []
   },
   "outputs": [],
   "source": [
    "dataloaders = {\n",
    "    \"train\": DataLoader(datasets[\"train\"], batch_size=batch_size, shuffle=True, collate_fn=collate_fn),\n",
    "    \"val\": DataLoader(datasets[\"val\"], batch_size=batch_size, shuffle=False, collate_fn=collate_fn)\n",
    "}"
   ]
  },
  {
   "cell_type": "code",
   "execution_count": 42,
   "id": "e4d34284-bdac-4713-b51c-b4945e5f4008",
   "metadata": {
    "tags": []
   },
   "outputs": [
    {
     "name": "stdout",
     "output_type": "stream",
     "text": [
      "---------- Epoch 0/29 ----------\n"
     ]
    },
    {
     "data": {
      "application/vnd.jupyter.widget-view+json": {
       "model_id": "8d31feb5c5944ac583dad8cbe07119dc",
       "version_major": 2,
       "version_minor": 0
      },
      "text/plain": [
       "  0%|          | 0/1022 [00:00<?, ?it/s]"
      ]
     },
     "metadata": {},
     "output_type": "display_data"
    },
    {
     "data": {
      "application/vnd.jupyter.widget-view+json": {
       "model_id": "7db889513196490e9ef289062a054c8e",
       "version_major": 2,
       "version_minor": 0
      },
      "text/plain": [
       "  0%|          | 0/256 [00:00<?, ?it/s]"
      ]
     },
     "metadata": {},
     "output_type": "display_data"
    },
    {
     "name": "stdout",
     "output_type": "stream",
     "text": [
      "\n",
      "Train Loss: 0.32657429575920105\n",
      "Validation Loss: 0.31827396154403687\n",
      "Best Epoch Validation Loss: None -> 0.31827396154403687\n",
      "\n",
      "---------- Epoch 1/29 ----------\n"
     ]
    },
    {
     "data": {
      "application/vnd.jupyter.widget-view+json": {
       "model_id": "b4619455e64747ca8ff2396ed65619f9",
       "version_major": 2,
       "version_minor": 0
      },
      "text/plain": [
       "  0%|          | 0/1022 [00:00<?, ?it/s]"
      ]
     },
     "metadata": {},
     "output_type": "display_data"
    },
    {
     "data": {
      "application/vnd.jupyter.widget-view+json": {
       "model_id": "19f53373a62544fc9bc2981fe176eccb",
       "version_major": 2,
       "version_minor": 0
      },
      "text/plain": [
       "  0%|          | 0/256 [00:00<?, ?it/s]"
      ]
     },
     "metadata": {},
     "output_type": "display_data"
    },
    {
     "name": "stdout",
     "output_type": "stream",
     "text": [
      "\n",
      "Train Loss: 0.3255326747894287\n",
      "Validation Loss: 0.31870752573013306\n",
      "\n",
      "---------- Epoch 2/29 ----------\n"
     ]
    },
    {
     "data": {
      "application/vnd.jupyter.widget-view+json": {
       "model_id": "97854ede7a18427aad78b40bb2d7f820",
       "version_major": 2,
       "version_minor": 0
      },
      "text/plain": [
       "  0%|          | 0/1022 [00:00<?, ?it/s]"
      ]
     },
     "metadata": {},
     "output_type": "display_data"
    },
    {
     "data": {
      "application/vnd.jupyter.widget-view+json": {
       "model_id": "90af30a0fd864fda92adfba31da3676e",
       "version_major": 2,
       "version_minor": 0
      },
      "text/plain": [
       "  0%|          | 0/256 [00:00<?, ?it/s]"
      ]
     },
     "metadata": {},
     "output_type": "display_data"
    },
    {
     "name": "stdout",
     "output_type": "stream",
     "text": [
      "\n",
      "Train Loss: 0.32452964782714844\n",
      "Validation Loss: 0.3167949914932251\n",
      "Best Epoch Validation Loss: 0.31827396154403687 -> 0.3167949914932251\n",
      "\n",
      "---------- Epoch 3/29 ----------\n"
     ]
    },
    {
     "data": {
      "application/vnd.jupyter.widget-view+json": {
       "model_id": "2587ecf6e067445c8e587d4cbf78ed93",
       "version_major": 2,
       "version_minor": 0
      },
      "text/plain": [
       "  0%|          | 0/1022 [00:00<?, ?it/s]"
      ]
     },
     "metadata": {},
     "output_type": "display_data"
    },
    {
     "data": {
      "application/vnd.jupyter.widget-view+json": {
       "model_id": "3bc07e6554384b64a203dcce720e4db8",
       "version_major": 2,
       "version_minor": 0
      },
      "text/plain": [
       "  0%|          | 0/256 [00:00<?, ?it/s]"
      ]
     },
     "metadata": {},
     "output_type": "display_data"
    },
    {
     "name": "stdout",
     "output_type": "stream",
     "text": [
      "\n",
      "Train Loss: 0.32392817735671997\n",
      "Validation Loss: 0.3162993788719177\n",
      "Best Epoch Validation Loss: 0.3167949914932251 -> 0.3162993788719177\n",
      "\n",
      "---------- Epoch 4/29 ----------\n"
     ]
    },
    {
     "data": {
      "application/vnd.jupyter.widget-view+json": {
       "model_id": "05fcdda7283c45f9bf2da4136c44e2ef",
       "version_major": 2,
       "version_minor": 0
      },
      "text/plain": [
       "  0%|          | 0/1022 [00:00<?, ?it/s]"
      ]
     },
     "metadata": {},
     "output_type": "display_data"
    },
    {
     "data": {
      "application/vnd.jupyter.widget-view+json": {
       "model_id": "8b8d51d0f8fc4b48a8bda269d2ae7baa",
       "version_major": 2,
       "version_minor": 0
      },
      "text/plain": [
       "  0%|          | 0/256 [00:00<?, ?it/s]"
      ]
     },
     "metadata": {},
     "output_type": "display_data"
    },
    {
     "name": "stdout",
     "output_type": "stream",
     "text": [
      "\n",
      "Train Loss: 0.3231555223464966\n",
      "Validation Loss: 0.3168044984340668\n",
      "\n",
      "---------- Epoch 5/29 ----------\n"
     ]
    },
    {
     "data": {
      "application/vnd.jupyter.widget-view+json": {
       "model_id": "5c28932c9e384e7991c0239d2e5b6f01",
       "version_major": 2,
       "version_minor": 0
      },
      "text/plain": [
       "  0%|          | 0/1022 [00:00<?, ?it/s]"
      ]
     },
     "metadata": {},
     "output_type": "display_data"
    },
    {
     "data": {
      "application/vnd.jupyter.widget-view+json": {
       "model_id": "ee155bc20a3c4aff99951bd131e8d75a",
       "version_major": 2,
       "version_minor": 0
      },
      "text/plain": [
       "  0%|          | 0/256 [00:00<?, ?it/s]"
      ]
     },
     "metadata": {},
     "output_type": "display_data"
    },
    {
     "name": "stdout",
     "output_type": "stream",
     "text": [
      "\n",
      "Train Loss: 0.32260358333587646\n",
      "Validation Loss: 0.3159230649471283\n",
      "Best Epoch Validation Loss: 0.3162993788719177 -> 0.3159230649471283\n",
      "\n",
      "---------- Epoch 6/29 ----------\n"
     ]
    },
    {
     "data": {
      "application/vnd.jupyter.widget-view+json": {
       "model_id": "1b62b31ecb7f49f19723c72fb7afe0da",
       "version_major": 2,
       "version_minor": 0
      },
      "text/plain": [
       "  0%|          | 0/1022 [00:00<?, ?it/s]"
      ]
     },
     "metadata": {},
     "output_type": "display_data"
    },
    {
     "data": {
      "application/vnd.jupyter.widget-view+json": {
       "model_id": "59e6d350f1c840e19ca40aaea77433e7",
       "version_major": 2,
       "version_minor": 0
      },
      "text/plain": [
       "  0%|          | 0/256 [00:00<?, ?it/s]"
      ]
     },
     "metadata": {},
     "output_type": "display_data"
    },
    {
     "name": "stdout",
     "output_type": "stream",
     "text": [
      "\n",
      "Train Loss: 0.32212039828300476\n",
      "Validation Loss: 0.3154822587966919\n",
      "Best Epoch Validation Loss: 0.3159230649471283 -> 0.3154822587966919\n",
      "\n",
      "---------- Epoch 7/29 ----------\n"
     ]
    },
    {
     "data": {
      "application/vnd.jupyter.widget-view+json": {
       "model_id": "da871e7dceed40ebb6d75260cc0e0d62",
       "version_major": 2,
       "version_minor": 0
      },
      "text/plain": [
       "  0%|          | 0/1022 [00:00<?, ?it/s]"
      ]
     },
     "metadata": {},
     "output_type": "display_data"
    },
    {
     "data": {
      "application/vnd.jupyter.widget-view+json": {
       "model_id": "0c9c04b313e047548f57afdf094d2326",
       "version_major": 2,
       "version_minor": 0
      },
      "text/plain": [
       "  0%|          | 0/256 [00:00<?, ?it/s]"
      ]
     },
     "metadata": {},
     "output_type": "display_data"
    },
    {
     "name": "stdout",
     "output_type": "stream",
     "text": [
      "\n",
      "Train Loss: 0.3215405344963074\n",
      "Validation Loss: 0.31548336148262024\n",
      "\n",
      "---------- Epoch 8/29 ----------\n"
     ]
    },
    {
     "data": {
      "application/vnd.jupyter.widget-view+json": {
       "model_id": "236560eb066c469a95fb5df7c9bea806",
       "version_major": 2,
       "version_minor": 0
      },
      "text/plain": [
       "  0%|          | 0/1022 [00:00<?, ?it/s]"
      ]
     },
     "metadata": {},
     "output_type": "display_data"
    },
    {
     "data": {
      "application/vnd.jupyter.widget-view+json": {
       "model_id": "b7705623c7ff43a9853f160be85a4c18",
       "version_major": 2,
       "version_minor": 0
      },
      "text/plain": [
       "  0%|          | 0/256 [00:00<?, ?it/s]"
      ]
     },
     "metadata": {},
     "output_type": "display_data"
    },
    {
     "name": "stdout",
     "output_type": "stream",
     "text": [
      "\n",
      "Train Loss: 0.3211691677570343\n",
      "Validation Loss: 0.3151049017906189\n",
      "Best Epoch Validation Loss: 0.3154822587966919 -> 0.3151049017906189\n",
      "\n",
      "---------- Epoch 9/29 ----------\n"
     ]
    },
    {
     "data": {
      "application/vnd.jupyter.widget-view+json": {
       "model_id": "e28432afa2dd477aa22f8d5702c557b0",
       "version_major": 2,
       "version_minor": 0
      },
      "text/plain": [
       "  0%|          | 0/1022 [00:00<?, ?it/s]"
      ]
     },
     "metadata": {},
     "output_type": "display_data"
    },
    {
     "data": {
      "application/vnd.jupyter.widget-view+json": {
       "model_id": "1ca9795d4e614f8caeb4165442aaa0cb",
       "version_major": 2,
       "version_minor": 0
      },
      "text/plain": [
       "  0%|          | 0/256 [00:00<?, ?it/s]"
      ]
     },
     "metadata": {},
     "output_type": "display_data"
    },
    {
     "name": "stdout",
     "output_type": "stream",
     "text": [
      "\n",
      "Train Loss: 0.32083940505981445\n",
      "Validation Loss: 0.31508922576904297\n",
      "Best Epoch Validation Loss: 0.3151049017906189 -> 0.31508922576904297\n",
      "\n",
      "---------- Epoch 10/29 ----------\n"
     ]
    },
    {
     "data": {
      "application/vnd.jupyter.widget-view+json": {
       "model_id": "28a0e121abed408f8bb6631850b85380",
       "version_major": 2,
       "version_minor": 0
      },
      "text/plain": [
       "  0%|          | 0/1022 [00:00<?, ?it/s]"
      ]
     },
     "metadata": {},
     "output_type": "display_data"
    },
    {
     "data": {
      "application/vnd.jupyter.widget-view+json": {
       "model_id": "c6e22e241ec44e03942e4742a3ae6e26",
       "version_major": 2,
       "version_minor": 0
      },
      "text/plain": [
       "  0%|          | 0/256 [00:00<?, ?it/s]"
      ]
     },
     "metadata": {},
     "output_type": "display_data"
    },
    {
     "name": "stdout",
     "output_type": "stream",
     "text": [
      "\n",
      "Train Loss: 0.3206726908683777\n",
      "Validation Loss: 0.3149280548095703\n",
      "Best Epoch Validation Loss: 0.31508922576904297 -> 0.3149280548095703\n",
      "\n",
      "---------- Epoch 11/29 ----------\n"
     ]
    },
    {
     "data": {
      "application/vnd.jupyter.widget-view+json": {
       "model_id": "c898a055d8644534afc85cb521694383",
       "version_major": 2,
       "version_minor": 0
      },
      "text/plain": [
       "  0%|          | 0/1022 [00:00<?, ?it/s]"
      ]
     },
     "metadata": {},
     "output_type": "display_data"
    },
    {
     "ename": "KeyboardInterrupt",
     "evalue": "",
     "output_type": "error",
     "traceback": [
      "\u001b[0;31m---------------------------------------------------------------------------\u001b[0m",
      "\u001b[0;31mKeyboardInterrupt\u001b[0m                         Traceback (most recent call last)",
      "Cell \u001b[0;32mIn[42], line 27\u001b[0m\n\u001b[1;32m     15\u001b[0m model_wrapper \u001b[38;5;241m=\u001b[39m VLMModelWrapper(\n\u001b[1;32m     16\u001b[0m     model\u001b[38;5;241m=\u001b[39mmodel,\n\u001b[1;32m     17\u001b[0m     n_classes\u001b[38;5;241m=\u001b[39mn_classes,\n\u001b[0;32m   (...)\u001b[0m\n\u001b[1;32m     23\u001b[0m     save_dir\u001b[38;5;241m=\u001b[39mos\u001b[38;5;241m.\u001b[39mpath\u001b[38;5;241m.\u001b[39mjoin(save_dir)\n\u001b[1;32m     24\u001b[0m )\n\u001b[1;32m     26\u001b[0m torch\u001b[38;5;241m.\u001b[39mcuda\u001b[38;5;241m.\u001b[39mempty_cache() \u001b[38;5;28;01mif\u001b[39;00m device \u001b[38;5;241m==\u001b[39m \u001b[38;5;124m\"\u001b[39m\u001b[38;5;124mcuda\u001b[39m\u001b[38;5;124m\"\u001b[39m \u001b[38;5;28;01melse\u001b[39;00m \u001b[38;5;28;01mNone\u001b[39;00m\n\u001b[0;32m---> 27\u001b[0m epoch, loss, weights \u001b[38;5;241m=\u001b[39m \u001b[43mmodel_wrapper\u001b[49m\u001b[38;5;241;43m.\u001b[39;49m\u001b[43mfit\u001b[49m\u001b[43m(\u001b[49m\u001b[43mtrain_loader\u001b[49m\u001b[38;5;241;43m=\u001b[39;49m\u001b[43mdataloaders\u001b[49m\u001b[43m[\u001b[49m\u001b[38;5;124;43m\"\u001b[39;49m\u001b[38;5;124;43mtrain\u001b[39;49m\u001b[38;5;124;43m\"\u001b[39;49m\u001b[43m]\u001b[49m\u001b[43m,\u001b[49m\u001b[43m \u001b[49m\u001b[43mval_loader\u001b[49m\u001b[38;5;241;43m=\u001b[39;49m\u001b[43mdataloaders\u001b[49m\u001b[43m[\u001b[49m\u001b[38;5;124;43m\"\u001b[39;49m\u001b[38;5;124;43mval\u001b[39;49m\u001b[38;5;124;43m\"\u001b[39;49m\u001b[43m]\u001b[49m\u001b[43m)\u001b[49m\n\u001b[1;32m     29\u001b[0m \u001b[38;5;28;01mif\u001b[39;00m \u001b[38;5;129;01mnot\u001b[39;00m os\u001b[38;5;241m.\u001b[39mpath\u001b[38;5;241m.\u001b[39mexists(save_dir):\n\u001b[1;32m     30\u001b[0m     os\u001b[38;5;241m.\u001b[39mmakedirs(save_dir)\n",
      "Cell \u001b[0;32mIn[24], line 37\u001b[0m, in \u001b[0;36mVLMModelWrapper.fit\u001b[0;34m(self, train_loader, val_loader)\u001b[0m\n\u001b[1;32m     34\u001b[0m \u001b[38;5;28;01mfor\u001b[39;00m epoch \u001b[38;5;129;01min\u001b[39;00m \u001b[38;5;28mrange\u001b[39m(\u001b[38;5;28mself\u001b[39m\u001b[38;5;241m.\u001b[39mepochs):\n\u001b[1;32m     35\u001b[0m     \u001b[38;5;28mprint\u001b[39m(\u001b[38;5;124mf\u001b[39m\u001b[38;5;124m\"\u001b[39m\u001b[38;5;124m---------- Epoch \u001b[39m\u001b[38;5;132;01m{\u001b[39;00mepoch\u001b[38;5;132;01m}\u001b[39;00m\u001b[38;5;124m/\u001b[39m\u001b[38;5;132;01m{\u001b[39;00m\u001b[38;5;28mself\u001b[39m\u001b[38;5;241m.\u001b[39mepochs\u001b[38;5;250m \u001b[39m\u001b[38;5;241m-\u001b[39m\u001b[38;5;250m \u001b[39m\u001b[38;5;241m1\u001b[39m\u001b[38;5;132;01m}\u001b[39;00m\u001b[38;5;124m ----------\u001b[39m\u001b[38;5;124m\"\u001b[39m)\n\u001b[0;32m---> 37\u001b[0m     train_loss \u001b[38;5;241m=\u001b[39m \u001b[38;5;28;43mself\u001b[39;49m\u001b[38;5;241;43m.\u001b[39;49m\u001b[43mtrain\u001b[49m\u001b[43m(\u001b[49m\u001b[43mtrain_loader\u001b[49m\u001b[43m)\u001b[49m\n\u001b[1;32m     38\u001b[0m     \u001b[38;5;28;01mif\u001b[39;00m \u001b[38;5;28mself\u001b[39m\u001b[38;5;241m.\u001b[39mscheduler:\n\u001b[1;32m     39\u001b[0m         \u001b[38;5;28mself\u001b[39m\u001b[38;5;241m.\u001b[39mscheduler\u001b[38;5;241m.\u001b[39mstep()\n",
      "Cell \u001b[0;32mIn[24], line 72\u001b[0m, in \u001b[0;36mVLMModelWrapper.train\u001b[0;34m(self, dataloader)\u001b[0m\n\u001b[1;32m     70\u001b[0m imgs \u001b[38;5;241m=\u001b[39m batch[\u001b[38;5;241m0\u001b[39m]\u001b[38;5;241m.\u001b[39mto(\u001b[38;5;28mself\u001b[39m\u001b[38;5;241m.\u001b[39mdevice)\n\u001b[1;32m     71\u001b[0m targets \u001b[38;5;241m=\u001b[39m [{k: v\u001b[38;5;241m.\u001b[39mto(\u001b[38;5;28mself\u001b[39m\u001b[38;5;241m.\u001b[39mdevice) \u001b[38;5;28;01mfor\u001b[39;00m k, v \u001b[38;5;129;01min\u001b[39;00m t\u001b[38;5;241m.\u001b[39mitems() \u001b[38;5;28;01mif\u001b[39;00m k \u001b[38;5;241m!=\u001b[39m \u001b[38;5;124m\"\u001b[39m\u001b[38;5;124mimage_id\u001b[39m\u001b[38;5;124m\"\u001b[39m} \u001b[38;5;28;01mfor\u001b[39;00m t \u001b[38;5;129;01min\u001b[39;00m batch[\u001b[38;5;241m1\u001b[39m]]\n\u001b[0;32m---> 72\u001b[0m outputs \u001b[38;5;241m=\u001b[39m \u001b[38;5;28;43mself\u001b[39;49m\u001b[38;5;241;43m.\u001b[39;49m\u001b[43mmodel\u001b[49m\u001b[43m(\u001b[49m\u001b[43mimgs\u001b[49m\u001b[43m,\u001b[49m\u001b[43m \u001b[49m\u001b[43mtargets\u001b[49m\u001b[43m)\u001b[49m\n\u001b[1;32m     74\u001b[0m \u001b[38;5;66;03m# get the average loss of the classifier, bbox predictor, mask predictor\u001b[39;00m\n\u001b[1;32m     75\u001b[0m loss \u001b[38;5;241m=\u001b[39m \u001b[38;5;28msum\u001b[39m(l \u001b[38;5;28;01mfor\u001b[39;00m l \u001b[38;5;129;01min\u001b[39;00m outputs\u001b[38;5;241m.\u001b[39mvalues())\n",
      "File \u001b[0;32m/opt/conda/envs/pytorch/lib/python3.10/site-packages/torch/nn/modules/module.py:1194\u001b[0m, in \u001b[0;36mModule._call_impl\u001b[0;34m(self, *input, **kwargs)\u001b[0m\n\u001b[1;32m   1190\u001b[0m \u001b[38;5;66;03m# If we don't have any hooks, we want to skip the rest of the logic in\u001b[39;00m\n\u001b[1;32m   1191\u001b[0m \u001b[38;5;66;03m# this function, and just call forward.\u001b[39;00m\n\u001b[1;32m   1192\u001b[0m \u001b[38;5;28;01mif\u001b[39;00m \u001b[38;5;129;01mnot\u001b[39;00m (\u001b[38;5;28mself\u001b[39m\u001b[38;5;241m.\u001b[39m_backward_hooks \u001b[38;5;129;01mor\u001b[39;00m \u001b[38;5;28mself\u001b[39m\u001b[38;5;241m.\u001b[39m_forward_hooks \u001b[38;5;129;01mor\u001b[39;00m \u001b[38;5;28mself\u001b[39m\u001b[38;5;241m.\u001b[39m_forward_pre_hooks \u001b[38;5;129;01mor\u001b[39;00m _global_backward_hooks\n\u001b[1;32m   1193\u001b[0m         \u001b[38;5;129;01mor\u001b[39;00m _global_forward_hooks \u001b[38;5;129;01mor\u001b[39;00m _global_forward_pre_hooks):\n\u001b[0;32m-> 1194\u001b[0m     \u001b[38;5;28;01mreturn\u001b[39;00m \u001b[43mforward_call\u001b[49m\u001b[43m(\u001b[49m\u001b[38;5;241;43m*\u001b[39;49m\u001b[38;5;28;43minput\u001b[39;49m\u001b[43m,\u001b[49m\u001b[43m \u001b[49m\u001b[38;5;241;43m*\u001b[39;49m\u001b[38;5;241;43m*\u001b[39;49m\u001b[43mkwargs\u001b[49m\u001b[43m)\u001b[49m\n\u001b[1;32m   1195\u001b[0m \u001b[38;5;66;03m# Do not call functions when jit is used\u001b[39;00m\n\u001b[1;32m   1196\u001b[0m full_backward_hooks, non_full_backward_hooks \u001b[38;5;241m=\u001b[39m [], []\n",
      "File \u001b[0;32m/opt/conda/envs/pytorch/lib/python3.10/site-packages/torchvision/models/detection/generalized_rcnn.py:104\u001b[0m, in \u001b[0;36mGeneralizedRCNN.forward\u001b[0;34m(self, images, targets)\u001b[0m\n\u001b[1;32m    102\u001b[0m \u001b[38;5;28;01mif\u001b[39;00m \u001b[38;5;28misinstance\u001b[39m(features, torch\u001b[38;5;241m.\u001b[39mTensor):\n\u001b[1;32m    103\u001b[0m     features \u001b[38;5;241m=\u001b[39m OrderedDict([(\u001b[38;5;124m\"\u001b[39m\u001b[38;5;124m0\u001b[39m\u001b[38;5;124m\"\u001b[39m, features)])\n\u001b[0;32m--> 104\u001b[0m proposals, proposal_losses \u001b[38;5;241m=\u001b[39m \u001b[38;5;28;43mself\u001b[39;49m\u001b[38;5;241;43m.\u001b[39;49m\u001b[43mrpn\u001b[49m\u001b[43m(\u001b[49m\u001b[43mimages\u001b[49m\u001b[43m,\u001b[49m\u001b[43m \u001b[49m\u001b[43mfeatures\u001b[49m\u001b[43m,\u001b[49m\u001b[43m \u001b[49m\u001b[43mtargets\u001b[49m\u001b[43m)\u001b[49m\n\u001b[1;32m    105\u001b[0m detections, detector_losses \u001b[38;5;241m=\u001b[39m \u001b[38;5;28mself\u001b[39m\u001b[38;5;241m.\u001b[39mroi_heads(features, proposals, images\u001b[38;5;241m.\u001b[39mimage_sizes, targets)\n\u001b[1;32m    106\u001b[0m detections \u001b[38;5;241m=\u001b[39m \u001b[38;5;28mself\u001b[39m\u001b[38;5;241m.\u001b[39mtransform\u001b[38;5;241m.\u001b[39mpostprocess(detections, images\u001b[38;5;241m.\u001b[39mimage_sizes, original_image_sizes)  \u001b[38;5;66;03m# type: ignore[operator]\u001b[39;00m\n",
      "File \u001b[0;32m/opt/conda/envs/pytorch/lib/python3.10/site-packages/torch/nn/modules/module.py:1194\u001b[0m, in \u001b[0;36mModule._call_impl\u001b[0;34m(self, *input, **kwargs)\u001b[0m\n\u001b[1;32m   1190\u001b[0m \u001b[38;5;66;03m# If we don't have any hooks, we want to skip the rest of the logic in\u001b[39;00m\n\u001b[1;32m   1191\u001b[0m \u001b[38;5;66;03m# this function, and just call forward.\u001b[39;00m\n\u001b[1;32m   1192\u001b[0m \u001b[38;5;28;01mif\u001b[39;00m \u001b[38;5;129;01mnot\u001b[39;00m (\u001b[38;5;28mself\u001b[39m\u001b[38;5;241m.\u001b[39m_backward_hooks \u001b[38;5;129;01mor\u001b[39;00m \u001b[38;5;28mself\u001b[39m\u001b[38;5;241m.\u001b[39m_forward_hooks \u001b[38;5;129;01mor\u001b[39;00m \u001b[38;5;28mself\u001b[39m\u001b[38;5;241m.\u001b[39m_forward_pre_hooks \u001b[38;5;129;01mor\u001b[39;00m _global_backward_hooks\n\u001b[1;32m   1193\u001b[0m         \u001b[38;5;129;01mor\u001b[39;00m _global_forward_hooks \u001b[38;5;129;01mor\u001b[39;00m _global_forward_pre_hooks):\n\u001b[0;32m-> 1194\u001b[0m     \u001b[38;5;28;01mreturn\u001b[39;00m \u001b[43mforward_call\u001b[49m\u001b[43m(\u001b[49m\u001b[38;5;241;43m*\u001b[39;49m\u001b[38;5;28;43minput\u001b[39;49m\u001b[43m,\u001b[49m\u001b[43m \u001b[49m\u001b[38;5;241;43m*\u001b[39;49m\u001b[38;5;241;43m*\u001b[39;49m\u001b[43mkwargs\u001b[49m\u001b[43m)\u001b[49m\n\u001b[1;32m   1195\u001b[0m \u001b[38;5;66;03m# Do not call functions when jit is used\u001b[39;00m\n\u001b[1;32m   1196\u001b[0m full_backward_hooks, non_full_backward_hooks \u001b[38;5;241m=\u001b[39m [], []\n",
      "File \u001b[0;32m/opt/conda/envs/pytorch/lib/python3.10/site-packages/torchvision/models/detection/rpn.py:370\u001b[0m, in \u001b[0;36mRegionProposalNetwork.forward\u001b[0;34m(self, images, features, targets)\u001b[0m\n\u001b[1;32m    366\u001b[0m objectness, pred_bbox_deltas \u001b[38;5;241m=\u001b[39m concat_box_prediction_layers(objectness, pred_bbox_deltas)\n\u001b[1;32m    367\u001b[0m \u001b[38;5;66;03m# apply pred_bbox_deltas to anchors to obtain the decoded proposals\u001b[39;00m\n\u001b[1;32m    368\u001b[0m \u001b[38;5;66;03m# note that we detach the deltas because Faster R-CNN do not backprop through\u001b[39;00m\n\u001b[1;32m    369\u001b[0m \u001b[38;5;66;03m# the proposals\u001b[39;00m\n\u001b[0;32m--> 370\u001b[0m proposals \u001b[38;5;241m=\u001b[39m \u001b[38;5;28;43mself\u001b[39;49m\u001b[38;5;241;43m.\u001b[39;49m\u001b[43mbox_coder\u001b[49m\u001b[38;5;241;43m.\u001b[39;49m\u001b[43mdecode\u001b[49m\u001b[43m(\u001b[49m\u001b[43mpred_bbox_deltas\u001b[49m\u001b[38;5;241;43m.\u001b[39;49m\u001b[43mdetach\u001b[49m\u001b[43m(\u001b[49m\u001b[43m)\u001b[49m\u001b[43m,\u001b[49m\u001b[43m \u001b[49m\u001b[43manchors\u001b[49m\u001b[43m)\u001b[49m\n\u001b[1;32m    371\u001b[0m proposals \u001b[38;5;241m=\u001b[39m proposals\u001b[38;5;241m.\u001b[39mview(num_images, \u001b[38;5;241m-\u001b[39m\u001b[38;5;241m1\u001b[39m, \u001b[38;5;241m4\u001b[39m)\n\u001b[1;32m    372\u001b[0m boxes, scores \u001b[38;5;241m=\u001b[39m \u001b[38;5;28mself\u001b[39m\u001b[38;5;241m.\u001b[39mfilter_proposals(proposals, objectness, images\u001b[38;5;241m.\u001b[39mimage_sizes, num_anchors_per_level)\n",
      "File \u001b[0;32m/opt/conda/envs/pytorch/lib/python3.10/site-packages/torchvision/models/detection/_utils.py:178\u001b[0m, in \u001b[0;36mBoxCoder.decode\u001b[0;34m(self, rel_codes, boxes)\u001b[0m\n\u001b[1;32m    176\u001b[0m \u001b[38;5;28;01mif\u001b[39;00m box_sum \u001b[38;5;241m>\u001b[39m \u001b[38;5;241m0\u001b[39m:\n\u001b[1;32m    177\u001b[0m     rel_codes \u001b[38;5;241m=\u001b[39m rel_codes\u001b[38;5;241m.\u001b[39mreshape(box_sum, \u001b[38;5;241m-\u001b[39m\u001b[38;5;241m1\u001b[39m)\n\u001b[0;32m--> 178\u001b[0m pred_boxes \u001b[38;5;241m=\u001b[39m \u001b[38;5;28;43mself\u001b[39;49m\u001b[38;5;241;43m.\u001b[39;49m\u001b[43mdecode_single\u001b[49m\u001b[43m(\u001b[49m\u001b[43mrel_codes\u001b[49m\u001b[43m,\u001b[49m\u001b[43m \u001b[49m\u001b[43mconcat_boxes\u001b[49m\u001b[43m)\u001b[49m\n\u001b[1;32m    179\u001b[0m \u001b[38;5;28;01mif\u001b[39;00m box_sum \u001b[38;5;241m>\u001b[39m \u001b[38;5;241m0\u001b[39m:\n\u001b[1;32m    180\u001b[0m     pred_boxes \u001b[38;5;241m=\u001b[39m pred_boxes\u001b[38;5;241m.\u001b[39mreshape(box_sum, \u001b[38;5;241m-\u001b[39m\u001b[38;5;241m1\u001b[39m, \u001b[38;5;241m4\u001b[39m)\n",
      "File \u001b[0;32m/opt/conda/envs/pytorch/lib/python3.10/site-packages/torchvision/models/detection/_utils.py:216\u001b[0m, in \u001b[0;36mBoxCoder.decode_single\u001b[0;34m(self, rel_codes, boxes)\u001b[0m\n\u001b[1;32m    213\u001b[0m pred_h \u001b[38;5;241m=\u001b[39m torch\u001b[38;5;241m.\u001b[39mexp(dh) \u001b[38;5;241m*\u001b[39m heights[:, \u001b[38;5;28;01mNone\u001b[39;00m]\n\u001b[1;32m    215\u001b[0m \u001b[38;5;66;03m# Distance from center to box's corner.\u001b[39;00m\n\u001b[0;32m--> 216\u001b[0m c_to_c_h \u001b[38;5;241m=\u001b[39m \u001b[43mtorch\u001b[49m\u001b[38;5;241;43m.\u001b[39;49m\u001b[43mtensor\u001b[49m\u001b[43m(\u001b[49m\u001b[38;5;241;43m0.5\u001b[39;49m\u001b[43m,\u001b[49m\u001b[43m \u001b[49m\u001b[43mdtype\u001b[49m\u001b[38;5;241;43m=\u001b[39;49m\u001b[43mpred_ctr_y\u001b[49m\u001b[38;5;241;43m.\u001b[39;49m\u001b[43mdtype\u001b[49m\u001b[43m,\u001b[49m\u001b[43m \u001b[49m\u001b[43mdevice\u001b[49m\u001b[38;5;241;43m=\u001b[39;49m\u001b[43mpred_h\u001b[49m\u001b[38;5;241;43m.\u001b[39;49m\u001b[43mdevice\u001b[49m\u001b[43m)\u001b[49m \u001b[38;5;241m*\u001b[39m pred_h\n\u001b[1;32m    217\u001b[0m c_to_c_w \u001b[38;5;241m=\u001b[39m torch\u001b[38;5;241m.\u001b[39mtensor(\u001b[38;5;241m0.5\u001b[39m, dtype\u001b[38;5;241m=\u001b[39mpred_ctr_x\u001b[38;5;241m.\u001b[39mdtype, device\u001b[38;5;241m=\u001b[39mpred_w\u001b[38;5;241m.\u001b[39mdevice) \u001b[38;5;241m*\u001b[39m pred_w\n\u001b[1;32m    219\u001b[0m pred_boxes1 \u001b[38;5;241m=\u001b[39m pred_ctr_x \u001b[38;5;241m-\u001b[39m c_to_c_w\n",
      "\u001b[0;31mKeyboardInterrupt\u001b[0m: "
     ]
    }
   ],
   "source": [
    "model = torchvision.models.detection.fasterrcnn_resnet50_fpn_v2(weights=\"DEFAULT\")\n",
    "\n",
    "optimizer = torch.optim.AdamW(\n",
    "    params=[p for p in model.parameters() if p.requires_grad],\n",
    "    lr=lr,\n",
    "    weight_decay=wd\n",
    ")\n",
    "\n",
    "# scheduler = torch.optim.lr_scheduler.StepLR(\n",
    "#     optimizer, \n",
    "#     step_size=step_size, \n",
    "#     gamma=gamma\n",
    "# )\n",
    "\n",
    "model_wrapper = VLMModelWrapper(\n",
    "    model=model,\n",
    "    n_classes=n_classes,\n",
    "    device=device,\n",
    "    optimizer=optimizer,\n",
    "    # scheduler=scheduler,\n",
    "    weights=torch.load(os.path.join(\"models\", \"rcnn\", \"checkpoint_nonoise_7c.pt\"), map_location=device),\n",
    "    epochs=epochs,\n",
    "    save_dir=os.path.join(save_dir)\n",
    ")\n",
    "\n",
    "torch.cuda.empty_cache() if device == \"cuda\" else None\n",
    "epoch, loss, weights = model_wrapper.fit(train_loader=dataloaders[\"train\"], val_loader=dataloaders[\"val\"])\n",
    "\n",
    "if not os.path.exists(save_dir):\n",
    "    os.makedirs(save_dir)\n",
    "\n",
    "print(f\"Saving best model...\")\n",
    "torch.save(weights, os.path.join(save_dir, \"best_model.pt\"))"
   ]
  },
  {
   "cell_type": "markdown",
   "id": "c13592a5-8ea0-46d2-9b68-ee1fda66ea59",
   "metadata": {},
   "source": [
    "# Hyperparameter Tuning"
   ]
  },
  {
   "cell_type": "code",
   "execution_count": 12,
   "id": "048e2a19-4985-45cc-a0d1-5f08c696dbdd",
   "metadata": {
    "tags": []
   },
   "outputs": [],
   "source": [
    "# configuations\n",
    "save_dir = os.path.join(\"models\", \"rcnn\")\n",
    "device = \"cuda\" if torch.cuda.is_available() else \"cpu\"\n",
    "n_classes = len(id2label)\n",
    "epochs = 5\n",
    "batch_size = 4\n",
    "lrates = [1e-1, 1e-5]\n",
    "wdecays = [0.1, 0.0001]"
   ]
  },
  {
   "cell_type": "code",
   "execution_count": 14,
   "id": "8b679887-2f95-46a6-951d-830c9fbebe11",
   "metadata": {
    "tags": []
   },
   "outputs": [
    {
     "name": "stdout",
     "output_type": "stream",
     "text": [
      "---------- Epoch 0/4 ----------\n"
     ]
    },
    {
     "data": {
      "application/vnd.jupyter.widget-view+json": {
       "model_id": "d8ba328b69314cec9e60bf906788ec25",
       "version_major": 2,
       "version_minor": 0
      },
      "text/plain": [
       "  0%|          | 0/100 [00:00<?, ?it/s]"
      ]
     },
     "metadata": {},
     "output_type": "display_data"
    },
    {
     "data": {
      "application/vnd.jupyter.widget-view+json": {
       "model_id": "ab6e3935d767439b8112d7c7e550d0bf",
       "version_major": 2,
       "version_minor": 0
      },
      "text/plain": [
       "  0%|          | 0/25 [00:00<?, ?it/s]"
      ]
     },
     "metadata": {},
     "output_type": "display_data"
    },
    {
     "name": "stdout",
     "output_type": "stream",
     "text": [
      "\n",
      "Train Loss: 89.21988677978516\n",
      "Validation Loss: 5.04832649230957\n",
      "Best Epoch Validation Loss: None -> 5.04832649230957\n",
      "\n",
      "---------- Epoch 1/4 ----------\n"
     ]
    },
    {
     "data": {
      "application/vnd.jupyter.widget-view+json": {
       "model_id": "f9def6269cc9443d9743a274ce72af4c",
       "version_major": 2,
       "version_minor": 0
      },
      "text/plain": [
       "  0%|          | 0/100 [00:00<?, ?it/s]"
      ]
     },
     "metadata": {},
     "output_type": "display_data"
    },
    {
     "data": {
      "application/vnd.jupyter.widget-view+json": {
       "model_id": "1047b663215f43d7a69556e16219326b",
       "version_major": 2,
       "version_minor": 0
      },
      "text/plain": [
       "  0%|          | 0/25 [00:00<?, ?it/s]"
      ]
     },
     "metadata": {},
     "output_type": "display_data"
    },
    {
     "name": "stdout",
     "output_type": "stream",
     "text": [
      "\n",
      "Train Loss: 3.4920170307159424\n",
      "Validation Loss: 41.109500885009766\n",
      "\n",
      "---------- Epoch 2/4 ----------\n"
     ]
    },
    {
     "data": {
      "application/vnd.jupyter.widget-view+json": {
       "model_id": "1a201640ba4b414abed7f615a91a7562",
       "version_major": 2,
       "version_minor": 0
      },
      "text/plain": [
       "  0%|          | 0/100 [00:00<?, ?it/s]"
      ]
     },
     "metadata": {},
     "output_type": "display_data"
    },
    {
     "data": {
      "application/vnd.jupyter.widget-view+json": {
       "model_id": "5564ff3477644f3aa43d75701e0c295a",
       "version_major": 2,
       "version_minor": 0
      },
      "text/plain": [
       "  0%|          | 0/25 [00:00<?, ?it/s]"
      ]
     },
     "metadata": {},
     "output_type": "display_data"
    },
    {
     "name": "stdout",
     "output_type": "stream",
     "text": [
      "\n",
      "Train Loss: 8.163403511047363\n",
      "Validation Loss: 1.0698988437652588\n",
      "Best Epoch Validation Loss: 5.04832649230957 -> 1.0698988437652588\n",
      "\n",
      "---------- Epoch 3/4 ----------\n"
     ]
    },
    {
     "data": {
      "application/vnd.jupyter.widget-view+json": {
       "model_id": "f09e0d61fcd243bb9c95f046406034c7",
       "version_major": 2,
       "version_minor": 0
      },
      "text/plain": [
       "  0%|          | 0/100 [00:00<?, ?it/s]"
      ]
     },
     "metadata": {},
     "output_type": "display_data"
    },
    {
     "data": {
      "application/vnd.jupyter.widget-view+json": {
       "model_id": "8d1317d3dd6548b48d051073bffeafda",
       "version_major": 2,
       "version_minor": 0
      },
      "text/plain": [
       "  0%|          | 0/25 [00:00<?, ?it/s]"
      ]
     },
     "metadata": {},
     "output_type": "display_data"
    },
    {
     "name": "stdout",
     "output_type": "stream",
     "text": [
      "\n",
      "Train Loss: 0.866011917591095\n",
      "Validation Loss: 0.725734531879425\n",
      "Best Epoch Validation Loss: 1.0698988437652588 -> 0.725734531879425\n",
      "\n",
      "---------- Epoch 4/4 ----------\n"
     ]
    },
    {
     "data": {
      "application/vnd.jupyter.widget-view+json": {
       "model_id": "4e6cf462bc374aaf9fec1f5c121e3a9d",
       "version_major": 2,
       "version_minor": 0
      },
      "text/plain": [
       "  0%|          | 0/100 [00:00<?, ?it/s]"
      ]
     },
     "metadata": {},
     "output_type": "display_data"
    },
    {
     "data": {
      "application/vnd.jupyter.widget-view+json": {
       "model_id": "6a51777ac8334c988d4b2eb9275f7c91",
       "version_major": 2,
       "version_minor": 0
      },
      "text/plain": [
       "  0%|          | 0/25 [00:00<?, ?it/s]"
      ]
     },
     "metadata": {},
     "output_type": "display_data"
    },
    {
     "name": "stdout",
     "output_type": "stream",
     "text": [
      "\n",
      "Train Loss: 1.266724944114685\n",
      "Validation Loss: 2.6185171604156494\n",
      "\n",
      "---------- Epoch 0/4 ----------\n"
     ]
    },
    {
     "data": {
      "application/vnd.jupyter.widget-view+json": {
       "model_id": "75948d9023ba4f05a7a8a5a188150712",
       "version_major": 2,
       "version_minor": 0
      },
      "text/plain": [
       "  0%|          | 0/100 [00:00<?, ?it/s]"
      ]
     },
     "metadata": {},
     "output_type": "display_data"
    },
    {
     "data": {
      "application/vnd.jupyter.widget-view+json": {
       "model_id": "3241ded798af4c2891fbda443bdd6eb3",
       "version_major": 2,
       "version_minor": 0
      },
      "text/plain": [
       "  0%|          | 0/25 [00:00<?, ?it/s]"
      ]
     },
     "metadata": {},
     "output_type": "display_data"
    },
    {
     "name": "stdout",
     "output_type": "stream",
     "text": [
      "\n",
      "Train Loss: 74.12938690185547\n",
      "Validation Loss: 0.4345628619194031\n",
      "Best Epoch Validation Loss: None -> 0.4345628619194031\n",
      "\n",
      "---------- Epoch 1/4 ----------\n"
     ]
    },
    {
     "data": {
      "application/vnd.jupyter.widget-view+json": {
       "model_id": "d39858198f1446cba0867926292d7773",
       "version_major": 2,
       "version_minor": 0
      },
      "text/plain": [
       "  0%|          | 0/100 [00:00<?, ?it/s]"
      ]
     },
     "metadata": {},
     "output_type": "display_data"
    },
    {
     "data": {
      "application/vnd.jupyter.widget-view+json": {
       "model_id": "3d2f35a443b94dfd86088c8776f07108",
       "version_major": 2,
       "version_minor": 0
      },
      "text/plain": [
       "  0%|          | 0/25 [00:00<?, ?it/s]"
      ]
     },
     "metadata": {},
     "output_type": "display_data"
    },
    {
     "data": {
      "application/vnd.jupyter.widget-view+json": {
       "model_id": "0671210effac4e5eaf3d62a5adf69328",
       "version_major": 2,
       "version_minor": 0
      },
      "text/plain": [
       "  0%|          | 0/25 [00:00<?, ?it/s]"
      ]
     },
     "metadata": {},
     "output_type": "display_data"
    },
    {
     "name": "stdout",
     "output_type": "stream",
     "text": [
      "\n",
      "Train Loss: 0.42031389474868774\n",
      "Validation Loss: 0.3592747449874878\n",
      "Best Epoch Validation Loss: 0.4345628619194031 -> 0.3592747449874878\n",
      "\n",
      "---------- Epoch 3/4 ----------\n"
     ]
    },
    {
     "data": {
      "application/vnd.jupyter.widget-view+json": {
       "model_id": "999d6e5221b4481d8a3664b706c78d2b",
       "version_major": 2,
       "version_minor": 0
      },
      "text/plain": [
       "  0%|          | 0/100 [00:00<?, ?it/s]"
      ]
     },
     "metadata": {},
     "output_type": "display_data"
    },
    {
     "data": {
      "application/vnd.jupyter.widget-view+json": {
       "model_id": "0c3a72ebe2474ce299b436599395469b",
       "version_major": 2,
       "version_minor": 0
      },
      "text/plain": [
       "  0%|          | 0/25 [00:00<?, ?it/s]"
      ]
     },
     "metadata": {},
     "output_type": "display_data"
    },
    {
     "name": "stdout",
     "output_type": "stream",
     "text": [
      "\n",
      "Train Loss: 0.3646705150604248\n",
      "Validation Loss: 0.3515918552875519\n",
      "Best Epoch Validation Loss: 0.3592747449874878 -> 0.3515918552875519\n",
      "\n",
      "---------- Epoch 4/4 ----------\n"
     ]
    },
    {
     "data": {
      "application/vnd.jupyter.widget-view+json": {
       "model_id": "7e8fbc0ac40d45f7a86379b62c739c95",
       "version_major": 2,
       "version_minor": 0
      },
      "text/plain": [
       "  0%|          | 0/100 [00:00<?, ?it/s]"
      ]
     },
     "metadata": {},
     "output_type": "display_data"
    },
    {
     "data": {
      "application/vnd.jupyter.widget-view+json": {
       "model_id": "0323136c6cf74c63b5e57e70e8fdee34",
       "version_major": 2,
       "version_minor": 0
      },
      "text/plain": [
       "  0%|          | 0/25 [00:00<?, ?it/s]"
      ]
     },
     "metadata": {},
     "output_type": "display_data"
    },
    {
     "name": "stdout",
     "output_type": "stream",
     "text": [
      "\n",
      "Train Loss: 4.676632404327393\n",
      "Validation Loss: 29.337228775024414\n",
      "\n",
      "---------- Epoch 0/4 ----------\n"
     ]
    },
    {
     "data": {
      "application/vnd.jupyter.widget-view+json": {
       "model_id": "0b25ea0dab294a00bb656b0c46e6a1fc",
       "version_major": 2,
       "version_minor": 0
      },
      "text/plain": [
       "  0%|          | 0/100 [00:00<?, ?it/s]"
      ]
     },
     "metadata": {},
     "output_type": "display_data"
    },
    {
     "data": {
      "application/vnd.jupyter.widget-view+json": {
       "model_id": "b0fb5c46d8734bcf979041e850433ef2",
       "version_major": 2,
       "version_minor": 0
      },
      "text/plain": [
       "  0%|          | 0/25 [00:00<?, ?it/s]"
      ]
     },
     "metadata": {},
     "output_type": "display_data"
    },
    {
     "name": "stdout",
     "output_type": "stream",
     "text": [
      "\n",
      "Train Loss: 1.2093513011932373\n",
      "Validation Loss: 0.9770352840423584\n",
      "Best Epoch Validation Loss: None -> 0.9770352840423584\n",
      "\n",
      "---------- Epoch 1/4 ----------\n"
     ]
    },
    {
     "data": {
      "application/vnd.jupyter.widget-view+json": {
       "model_id": "c0f75d8282654e7188367427efadae43",
       "version_major": 2,
       "version_minor": 0
      },
      "text/plain": [
       "  0%|          | 0/100 [00:00<?, ?it/s]"
      ]
     },
     "metadata": {},
     "output_type": "display_data"
    },
    {
     "data": {
      "application/vnd.jupyter.widget-view+json": {
       "model_id": "ab74a905bbde445ab5268d2b14686047",
       "version_major": 2,
       "version_minor": 0
      },
      "text/plain": [
       "  0%|          | 0/25 [00:00<?, ?it/s]"
      ]
     },
     "metadata": {},
     "output_type": "display_data"
    },
    {
     "name": "stdout",
     "output_type": "stream",
     "text": [
      "\n",
      "Train Loss: 0.8122138977050781\n",
      "Validation Loss: 0.729213535785675\n",
      "Best Epoch Validation Loss: 0.9770352840423584 -> 0.729213535785675\n",
      "\n",
      "---------- Epoch 2/4 ----------\n"
     ]
    },
    {
     "data": {
      "application/vnd.jupyter.widget-view+json": {
       "model_id": "78c0996f19ae488a9cce9ca2ef319aef",
       "version_major": 2,
       "version_minor": 0
      },
      "text/plain": [
       "  0%|          | 0/100 [00:00<?, ?it/s]"
      ]
     },
     "metadata": {},
     "output_type": "display_data"
    },
    {
     "data": {
      "application/vnd.jupyter.widget-view+json": {
       "model_id": "e98e321dc4de4d56a1250e7741465e89",
       "version_major": 2,
       "version_minor": 0
      },
      "text/plain": [
       "  0%|          | 0/25 [00:00<?, ?it/s]"
      ]
     },
     "metadata": {},
     "output_type": "display_data"
    },
    {
     "name": "stdout",
     "output_type": "stream",
     "text": [
      "\n",
      "Train Loss: 0.62714684009552\n",
      "Validation Loss: 0.6423860192298889\n",
      "Best Epoch Validation Loss: 0.729213535785675 -> 0.6423860192298889\n",
      "\n",
      "---------- Epoch 3/4 ----------\n"
     ]
    },
    {
     "data": {
      "application/vnd.jupyter.widget-view+json": {
       "model_id": "d0c863fc8e4043f78fd1c7adf236217b",
       "version_major": 2,
       "version_minor": 0
      },
      "text/plain": [
       "  0%|          | 0/100 [00:00<?, ?it/s]"
      ]
     },
     "metadata": {},
     "output_type": "display_data"
    },
    {
     "data": {
      "application/vnd.jupyter.widget-view+json": {
       "model_id": "20fde5227845415da7c91e1432f0b6e3",
       "version_major": 2,
       "version_minor": 0
      },
      "text/plain": [
       "  0%|          | 0/25 [00:00<?, ?it/s]"
      ]
     },
     "metadata": {},
     "output_type": "display_data"
    },
    {
     "name": "stdout",
     "output_type": "stream",
     "text": [
      "\n",
      "Train Loss: 0.5485883355140686\n",
      "Validation Loss: 0.5783892869949341\n",
      "Best Epoch Validation Loss: 0.6423860192298889 -> 0.5783892869949341\n",
      "\n",
      "---------- Epoch 4/4 ----------\n"
     ]
    },
    {
     "data": {
      "application/vnd.jupyter.widget-view+json": {
       "model_id": "ab9ecc9432254028bfae7545848a29a7",
       "version_major": 2,
       "version_minor": 0
      },
      "text/plain": [
       "  0%|          | 0/100 [00:00<?, ?it/s]"
      ]
     },
     "metadata": {},
     "output_type": "display_data"
    },
    {
     "data": {
      "application/vnd.jupyter.widget-view+json": {
       "model_id": "a1c7eadb663c4bc783eb8eb74d91ca17",
       "version_major": 2,
       "version_minor": 0
      },
      "text/plain": [
       "  0%|          | 0/25 [00:00<?, ?it/s]"
      ]
     },
     "metadata": {},
     "output_type": "display_data"
    },
    {
     "name": "stdout",
     "output_type": "stream",
     "text": [
      "\n",
      "Train Loss: 0.4774242639541626\n",
      "Validation Loss: 0.554311990737915\n",
      "Best Epoch Validation Loss: 0.5783892869949341 -> 0.554311990737915\n",
      "\n",
      "---------- Epoch 0/4 ----------\n"
     ]
    },
    {
     "data": {
      "application/vnd.jupyter.widget-view+json": {
       "model_id": "9ba0fc193d5f4dbaa35c301512beb78b",
       "version_major": 2,
       "version_minor": 0
      },
      "text/plain": [
       "  0%|          | 0/100 [00:00<?, ?it/s]"
      ]
     },
     "metadata": {},
     "output_type": "display_data"
    },
    {
     "data": {
      "application/vnd.jupyter.widget-view+json": {
       "model_id": "28939408c3fb470dbdb0cdaa36ec8183",
       "version_major": 2,
       "version_minor": 0
      },
      "text/plain": [
       "  0%|          | 0/25 [00:00<?, ?it/s]"
      ]
     },
     "metadata": {},
     "output_type": "display_data"
    },
    {
     "name": "stdout",
     "output_type": "stream",
     "text": [
      "\n",
      "Train Loss: 1.083445429801941\n",
      "Validation Loss: 0.8265278935432434\n",
      "Best Epoch Validation Loss: None -> 0.8265278935432434\n",
      "\n",
      "---------- Epoch 1/4 ----------\n"
     ]
    },
    {
     "data": {
      "application/vnd.jupyter.widget-view+json": {
       "model_id": "cafdbfb7dd3343609b588d17488fbb88",
       "version_major": 2,
       "version_minor": 0
      },
      "text/plain": [
       "  0%|          | 0/100 [00:00<?, ?it/s]"
      ]
     },
     "metadata": {},
     "output_type": "display_data"
    },
    {
     "data": {
      "application/vnd.jupyter.widget-view+json": {
       "model_id": "f1dfc31bc02e43cbbc47ff0a8dc793ea",
       "version_major": 2,
       "version_minor": 0
      },
      "text/plain": [
       "  0%|          | 0/25 [00:00<?, ?it/s]"
      ]
     },
     "metadata": {},
     "output_type": "display_data"
    },
    {
     "name": "stdout",
     "output_type": "stream",
     "text": [
      "\n",
      "Train Loss: 0.6398369669914246\n",
      "Validation Loss: 0.5960643887519836\n",
      "Best Epoch Validation Loss: 0.8265278935432434 -> 0.5960643887519836\n",
      "\n",
      "---------- Epoch 2/4 ----------\n"
     ]
    },
    {
     "data": {
      "application/vnd.jupyter.widget-view+json": {
       "model_id": "c4c62ffff2774c20b0b4182cabc9ab70",
       "version_major": 2,
       "version_minor": 0
      },
      "text/plain": [
       "  0%|          | 0/100 [00:00<?, ?it/s]"
      ]
     },
     "metadata": {},
     "output_type": "display_data"
    },
    {
     "data": {
      "application/vnd.jupyter.widget-view+json": {
       "model_id": "1527c413033a41988d914f32346ffba7",
       "version_major": 2,
       "version_minor": 0
      },
      "text/plain": [
       "  0%|          | 0/25 [00:00<?, ?it/s]"
      ]
     },
     "metadata": {},
     "output_type": "display_data"
    },
    {
     "name": "stdout",
     "output_type": "stream",
     "text": [
      "\n",
      "Train Loss: 0.4773908853530884\n",
      "Validation Loss: 0.5137072801589966\n",
      "Best Epoch Validation Loss: 0.5960643887519836 -> 0.5137072801589966\n",
      "\n",
      "---------- Epoch 3/4 ----------\n"
     ]
    },
    {
     "data": {
      "application/vnd.jupyter.widget-view+json": {
       "model_id": "fbefabfe0d704678b26eed3ecd670a4d",
       "version_major": 2,
       "version_minor": 0
      },
      "text/plain": [
       "  0%|          | 0/100 [00:00<?, ?it/s]"
      ]
     },
     "metadata": {},
     "output_type": "display_data"
    },
    {
     "data": {
      "application/vnd.jupyter.widget-view+json": {
       "model_id": "0b0a5e3618534b2085602a846f5215bc",
       "version_major": 2,
       "version_minor": 0
      },
      "text/plain": [
       "  0%|          | 0/25 [00:00<?, ?it/s]"
      ]
     },
     "metadata": {},
     "output_type": "display_data"
    },
    {
     "name": "stdout",
     "output_type": "stream",
     "text": [
      "\n",
      "Train Loss: 0.3910793364048004\n",
      "Validation Loss: 0.48407599329948425\n",
      "Best Epoch Validation Loss: 0.5137072801589966 -> 0.48407599329948425\n",
      "\n",
      "---------- Epoch 4/4 ----------\n"
     ]
    },
    {
     "data": {
      "application/vnd.jupyter.widget-view+json": {
       "model_id": "a3c10337ee4f4f39bb4a1ff1804e6518",
       "version_major": 2,
       "version_minor": 0
      },
      "text/plain": [
       "  0%|          | 0/100 [00:00<?, ?it/s]"
      ]
     },
     "metadata": {},
     "output_type": "display_data"
    },
    {
     "data": {
      "application/vnd.jupyter.widget-view+json": {
       "model_id": "8375bce159e34a55814295d4ca3f466c",
       "version_major": 2,
       "version_minor": 0
      },
      "text/plain": [
       "  0%|          | 0/25 [00:00<?, ?it/s]"
      ]
     },
     "metadata": {},
     "output_type": "display_data"
    },
    {
     "name": "stdout",
     "output_type": "stream",
     "text": [
      "\n",
      "Train Loss: 0.341224730014801\n",
      "Validation Loss: 0.486219197511673\n",
      "\n",
      "Saving best model... Learning Rate:0.1 Weight Decay:0.0001)\n"
     ]
    }
   ],
   "source": [
    "best_model = {\"lrate\": None, \"wdecay\": None, \"epoch\": None, \"loss\": None, \"weights\": None}\n",
    "\n",
    "for lr in lrates:\n",
    "    for wd in wdecays:\n",
    "        model = torchvision.models.detection.fasterrcnn_resnet50_fpn_v2(weights=\"DEFAULT\")\n",
    "\n",
    "        optimizer = torch.optim.Adam(\n",
    "            params=[p for p in model.parameters() if p.requires_grad],\n",
    "            lr=lr,\n",
    "            weight_decay=wd\n",
    "        )\n",
    "\n",
    "        model_wrapper = VLMModelWrapper(\n",
    "            model=model,\n",
    "            n_classes=n_classes,\n",
    "            device=device,\n",
    "            optimizer=optimizer,\n",
    "            epochs=epochs,\n",
    "            save_dir=os.path.join(save_dir, f\"{lr}_{wd}\")\n",
    "        )\n",
    "\n",
    "        torch.cuda.empty_cache() if device == \"cuda\" else None\n",
    "        epoch, loss, weights = model_wrapper.fit(train_loader=dataloaders[\"train\"], val_loader=dataloaders[\"val\"])\n",
    "\n",
    "        if best_model[\"loss\"] is None or best_model[\"loss\"] > loss:\n",
    "            best_model[\"lrate\"] = lr\n",
    "            best_model[\"wdecay\"] = wd\n",
    "            best_model[\"epoch\"] = epoch\n",
    "            best_model[\"loss\"] = loss\n",
    "            best_model[\"weights\"] = weights\n",
    "\n",
    "\"\"\"\n",
    "    Plot and save train and validation loss curves, and save model weights\n",
    "\"\"\"\n",
    "if not os.path.exists(save_dir):\n",
    "    os.makedirs(save_dir)\n",
    "\n",
    "print(f\"Saving best model... Learning Rate:{best_model['lrate']} Weight Decay:{best_model['wdecay']})\")\n",
    "torch.save(best_model[\"weights\"], os.path.join(save_dir, \"best_model.pt\"))"
   ]
  },
  {
   "cell_type": "code",
   "execution_count": null,
   "id": "d2ba9a8a-c564-4ee1-9738-be9d4c3ebe01",
   "metadata": {},
   "outputs": [],
   "source": []
  }
 ],
 "metadata": {
  "environment": {
   "kernel": "conda-env-pytorch-pytorch",
   "name": "workbench-notebooks.m120",
   "type": "gcloud",
   "uri": "us-docker.pkg.dev/deeplearning-platform-release/gcr.io/workbench-notebooks:m120"
  },
  "kernelspec": {
   "display_name": "PyTorch 1-13",
   "language": "python",
   "name": "conda-env-pytorch-pytorch"
  },
  "language_info": {
   "codemirror_mode": {
    "name": "ipython",
    "version": 3
   },
   "file_extension": ".py",
   "mimetype": "text/x-python",
   "name": "python",
   "nbconvert_exporter": "python",
   "pygments_lexer": "ipython3",
   "version": "3.10.14"
  },
  "widgets": {
   "application/vnd.jupyter.widget-state+json": {
    "state": {},
    "version_major": 2,
    "version_minor": 0
   }
  }
 },
 "nbformat": 4,
 "nbformat_minor": 5
}
