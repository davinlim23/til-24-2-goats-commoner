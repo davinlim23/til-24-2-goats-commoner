{
 "cells": [
  {
   "cell_type": "code",
   "execution_count": 1,
   "id": "1d227063-56a0-4bff-ac89-9e8d64ef390a",
   "metadata": {
    "tags": []
   },
   "outputs": [
    {
     "name": "stdout",
     "output_type": "stream",
     "text": [
      "Length of classes: 126\n",
      "Length of full classes: 27913\n"
     ]
    }
   ],
   "source": [
    "import os\n",
    "import json\n",
    "import sys\n",
    "from sklearn.model_selection import train_test_split\n",
    "\n",
    "# Aim to convert the current annotation format to a coco format\n",
    "original_vlm_json_path = os.path.join(\"advanced\", \"vlm.jsonl\")\n",
    "\n",
    "# Check if the file exists\n",
    "if not os.path.exists(original_vlm_json_path):\n",
    "    print(\"The file does not exist\")\n",
    "    sys.exit(1)\n",
    "\n",
    "# Load the json file\n",
    "vlm_json = []\n",
    "with open(original_vlm_json_path, \"r\") as f:\n",
    "    for line in f:\n",
    "        vlm_json.append(json.loads(line))\n",
    "\n",
    "# # # Split the vlm_json into train and val first using sklearn\n",
    "# train_vlm_json, val_vlm_json = train_test_split(vlm_json, test_size=0.1, random_state=42)\n",
    "\n",
    "# train_vlm_json_path = os.path.join(\"train_vlm_yolo.jsonl\")\n",
    "# val_vlm_json_path = os.path.join(\"val_vlm_yolo.jsonl\")\n",
    "\n",
    "# with open(train_vlm_json_path, \"w\") as f:\n",
    "#     for item in train_vlm_json:\n",
    "#         f.write(json.dumps(item) + \"\\n\")\n",
    "\n",
    "# with open(val_vlm_json_path, \"w\") as f:\n",
    "#     for item in val_vlm_json:\n",
    "#         f.write(json.dumps(item) + \"\\n\")\n",
    "\n",
    "classes = []\n",
    "full_classes = []\n",
    "\n",
    "# Get all the classes\n",
    "for data in vlm_json:\n",
    "    for annotation in data[\"annotations\"]:\n",
    "        caption = annotation[\"caption\"]\n",
    "        full_classes.append(caption)\n",
    "        if caption not in classes:\n",
    "            classes.append(caption)\n",
    "\n",
    "print(f\"Length of classes: {len(classes)}\")\n",
    "print(f\"Length of full classes: {len(full_classes)}\")\n",
    "\n",
    "class_ids= {}\n",
    "\n",
    "for i, class_name in enumerate(classes):\n",
    "    class_ids[class_name] = i\n",
    "    \n",
    "    \n",
    "new_dir = \"data\"\n",
    "old_dir = \"advanced\"\n",
    "dataset_type = \"train\"\n"
   ]
  },
  {
   "cell_type": "code",
   "execution_count": 13,
   "id": "282737f9-db19-4550-b7dc-ac77626c3f92",
   "metadata": {
    "tags": []
   },
   "outputs": [],
   "source": [
    "# Val images and labels\n",
    "from PIL import Image\n",
    "\n",
    "new_dir = \"data\"\n",
    "old_dir = \"advanced\"\n",
    "dataset_type = \"val\"\n",
    "\n",
    "# Delete the directory if it exists\n",
    "if os.path.exists(os.path.join(new_dir, dataset_type)):\n",
    "    os.system(f\"rm -rf {os.path.join(new_dir, dataset_type)}\")\n",
    "\n",
    "# Create the coco format\n",
    "for vlm in val_vlm_json:\n",
    "    image_path = vlm[\"image\"]\n",
    "    annotations = vlm[\"annotations\"]\n",
    "    new_image_path = os.path.join(new_dir, dataset_type, 'images', image_path)\n",
    "    new_txt_path = new_image_path.replace(\"jpg\", \"txt\").replace(\"images\", \"labels\")\n",
    "    # Copy the image to the new directory\n",
    "    os.makedirs(os.path.dirname(new_image_path), exist_ok=True)\n",
    "    os.makedirs(os.path.dirname(new_txt_path), exist_ok=True)\n",
    "    os.system(f\"cp {os.path.join(old_dir, 'images', image_path)} {new_image_path}\")\n",
    "\n",
    "    # Get the size of the image\n",
    "    with Image.open(os.path.join(old_dir, \"images\", image_path)) as img:\n",
    "        width, height = img.size\n",
    "        # Since the image is not the actual image\n",
    "        width = 1520\n",
    "        height = 870\n",
    "\n",
    "    with open(new_txt_path, \"w\") as f:\n",
    "        for annotation in annotations:\n",
    "            caption = annotation[\"caption\"]\n",
    "            bbox = annotation[\"bbox\"]\n",
    "            x, y, w, h = bbox\n",
    "            x_center = x + w / 2\n",
    "            y_center = y + h / 2\n",
    "            class_id = class_ids[caption]\n",
    "\n",
    "            # Normalize the values to be between 0 and 1\n",
    "            x_center /= width\n",
    "            y_center /= height\n",
    "            w /= width\n",
    "            h /= height\n",
    "            \n",
    "            f.write(f\"{class_id} {x_center} {y_center} {w} {h}\\n\")\n",
    "    "
   ]
  },
  {
   "cell_type": "code",
   "execution_count": 14,
   "id": "8b7595c3-af43-43f8-94d5-3d600eac0804",
   "metadata": {
    "tags": []
   },
   "outputs": [],
   "source": [
    "# Train images and labels\n",
    "from PIL import Image\n",
    "\n",
    "new_dir = \"data\"\n",
    "old_dir = \"advanced\"\n",
    "dataset_type = \"train\"\n",
    "\n",
    "# Delete the directory if it exists\n",
    "if os.path.exists(os.path.join(new_dir, dataset_type)):\n",
    "    os.system(f\"rm -rf {os.path.join(new_dir, dataset_type)}\")\n",
    "\n",
    "# Create the coco format\n",
    "for vlm in train_vlm_json:\n",
    "    image_path = vlm[\"image\"]\n",
    "    annotations = vlm[\"annotations\"]\n",
    "    new_image_path = os.path.join(new_dir, dataset_type, 'images', image_path)\n",
    "    new_txt_path = new_image_path.replace(\"jpg\", \"txt\").replace(\"images\", \"labels\")\n",
    "    # Copy the image to the new directory\n",
    "    os.makedirs(os.path.dirname(new_image_path), exist_ok=True)\n",
    "    os.makedirs(os.path.dirname(new_txt_path), exist_ok=True)\n",
    "    os.system(f\"cp {os.path.join(old_dir, 'images', image_path)} {new_image_path}\")\n",
    "\n",
    "    # Get the size of the image\n",
    "    with Image.open(os.path.join(old_dir, \"images\", image_path)) as img:\n",
    "        width, height = img.size\n",
    "        # Since the image is not the actual image\n",
    "        width = 1520\n",
    "        height = 870\n",
    "\n",
    "    with open(new_txt_path, \"w\") as f:\n",
    "        for annotation in annotations:\n",
    "            caption = annotation[\"caption\"]\n",
    "            bbox = annotation[\"bbox\"]\n",
    "            x, y, w, h = bbox\n",
    "            x_center = x + w / 2\n",
    "            y_center = y + h / 2\n",
    "            class_id = class_ids[caption]\n",
    "\n",
    "            # Normalize the values to be between 0 and 1\n",
    "            x_center /= width\n",
    "            y_center /= height\n",
    "            w /= width\n",
    "            h /= height\n",
    "            \n",
    "            f.write(f\"{class_id} {x_center} {y_center} {w} {h}\\n\")\n",
    "    "
   ]
  },
  {
   "cell_type": "code",
   "execution_count": 2,
   "id": "0d7d1390-701e-4c29-93ea-19d2908e70a9",
   "metadata": {
    "tags": []
   },
   "outputs": [
    {
     "name": "stdout",
     "output_type": "stream",
     "text": [
      "Number of images in train: 4596\n",
      "Number of images in val: 511\n",
      "Number of labels in train: 4596\n",
      "Number of labels in val: 511\n"
     ]
    }
   ],
   "source": [
    "# Check if the files have been created\n",
    "train_dir = os.path.join(new_dir, \"train\")\n",
    "val_dir = os.path.join(new_dir, \"val\")\n",
    "train_dir_images = os.path.join(train_dir, \"images\")\n",
    "val_dir_images = os.path.join(val_dir, \"images\")\n",
    "\n",
    "train_dir_labels = os.path.join(train_dir, \"labels\")\n",
    "val_dir_labels = os.path.join(val_dir, \"labels\")\n",
    "\n",
    "print(f\"Number of images in train: {len(os.listdir(train_dir_images))}\")\n",
    "print(f\"Number of images in val: {len(os.listdir(val_dir_images))}\")\n",
    "\n",
    "print(f\"Number of labels in train: {len(os.listdir(train_dir_labels))}\")\n",
    "print(f\"Number of labels in val: {len(os.listdir(val_dir_labels))}\")"
   ]
  },
  {
   "cell_type": "code",
   "execution_count": 64,
   "id": "293cd62e-0c9a-40a4-9d58-c21eb7c1e3f8",
   "metadata": {
    "tags": []
   },
   "outputs": [],
   "source": [
    "images_path_list = os.listdir(train_dir_images) \n",
    "\n",
    "for x in images_path_list:\n",
    "    path = os.path.join(train_dir_images, x)\n",
    "    image = Image.open(path)\n",
    "    if image.size != (1520, 870):\n",
    "        print(\"No right size\")"
   ]
  },
  {
   "cell_type": "code",
   "execution_count": 14,
   "id": "aa43edfa-46b2-4c0c-8ac9-e51499c4fd8a",
   "metadata": {
    "tags": []
   },
   "outputs": [],
   "source": [
    "# Add data.yaml file into data directory\n",
    "# Format of the data.yaml file\n",
    "\"\"\"\n",
    "train: ../train/images\n",
    "val: ../val/images\n",
    "\n",
    "nc: number of classes\n",
    "names: [class1, class2, class3, ...]\n",
    "\"\"\"\n",
    "\n",
    "data_yaml_path = os.path.join(new_dir, \"data.yaml\")\n",
    "\n",
    "with open(data_yaml_path, \"w\") as f:\n",
    "    f.write(f\"train: ../train/images\\n\")\n",
    "    f.write(f\"val: ../val/images\\n\\n\")\n",
    "    f.write(f\"nc: {len(classes)}\\n\")\n",
    "    f.write(f\"names: {classes}\\n\")"
   ]
  },
  {
   "cell_type": "code",
   "execution_count": null,
   "id": "a835d6a4-c5e0-4176-9f05-ab435e142270",
   "metadata": {
    "tags": []
   },
   "outputs": [],
   "source": [
    "!pip install ultralytics"
   ]
  },
  {
   "cell_type": "code",
   "execution_count": 3,
   "id": "614e0851-a43f-4974-b8dd-864c03f45beb",
   "metadata": {
    "tags": []
   },
   "outputs": [],
   "source": [
    "from ultralytics import YOLOWorld\n",
    "from ultralytics.data.augment import Albumentations\n",
    "from ultralytics.utils import LOGGER, colorstr"
   ]
  },
  {
   "cell_type": "code",
   "execution_count": 4,
   "id": "29790971-52c1-482e-a470-5f909b87867f",
   "metadata": {
    "tags": []
   },
   "outputs": [],
   "source": [
    "# model = YOLOWorld(\"2024_05_28_80epochs_yolov_world.pt\")\n",
    "best_model_path = os.path.join(\"runs\", \"detect\", \"train93\", \"weights\", \"best.pt\")\n",
    "\n",
    "# best_model = YOLOWorld(best_model_path)\n",
    "model = YOLOWorld(\"yolov8x-worldv2.pt\")\n"
   ]
  },
  {
   "cell_type": "code",
   "execution_count": 5,
   "id": "c381edfc-f828-49f4-b262-40e1101e4e8b",
   "metadata": {
    "tags": []
   },
   "outputs": [],
   "source": [
    "model.set_classes(classes)"
   ]
  },
  {
   "cell_type": "code",
   "execution_count": 6,
   "id": "f60542d2-c6dc-4800-b731-5b86965257c2",
   "metadata": {
    "tags": []
   },
   "outputs": [
    {
     "data": {
      "text/plain": [
       "'data/data.yaml'"
      ]
     },
     "execution_count": 6,
     "metadata": {},
     "output_type": "execute_result"
    }
   ],
   "source": [
    "new_dir = \"data\"\n",
    "data_yaml_path = os.path.join(new_dir, \"data.yaml\")\n",
    "data_yaml_path\n",
    "\n"
   ]
  },
  {
   "cell_type": "code",
   "execution_count": 8,
   "id": "f38d84e3-5a2a-45aa-bee2-3110cabc14b2",
   "metadata": {
    "tags": []
   },
   "outputs": [
    {
     "name": "stdout",
     "output_type": "stream",
     "text": [
      "settings_version: 0.0.4\n",
      "datasets_dir: ''\n",
      "weights_dir: weights\n",
      "runs_dir: runs\n",
      "uuid: ce422fe0ee5580ad5f410dc2974ada6fd84d08f9890a6e003516986927c64ab4\n",
      "sync: true\n",
      "api_key: ''\n",
      "openai_api_key: ''\n",
      "clearml: true\n",
      "comet: true\n",
      "dvc: true\n",
      "hub: true\n",
      "mlflow: true\n",
      "neptune: true\n",
      "raytune: true\n",
      "tensorboard: true\n",
      "wandb: true\n"
     ]
    }
   ],
   "source": [
    "!cat /home/jupyter/.config/Ultralytics/settings.yaml"
   ]
  },
  {
   "cell_type": "code",
   "execution_count": 19,
   "id": "2fd5d16d-f8f0-40a8-a62c-95bc5e6af9f2",
   "metadata": {
    "tags": []
   },
   "outputs": [
    {
     "name": "stdout",
     "output_type": "stream",
     "text": [
      "\u001b[33mWARNING: Ignoring invalid distribution -orch (/opt/conda/envs/pytorch/lib/python3.10/site-packages)\u001b[0m\u001b[33m\n",
      "\u001b[0mRequirement already satisfied: albumentations in /opt/conda/envs/pytorch/lib/python3.10/site-packages (1.4.7)\n",
      "Requirement already satisfied: numpy>=1.24.4 in /opt/conda/envs/pytorch/lib/python3.10/site-packages (from albumentations) (1.26.4)\n",
      "Requirement already satisfied: scipy>=1.10.0 in /opt/conda/envs/pytorch/lib/python3.10/site-packages (from albumentations) (1.11.4)\n",
      "Requirement already satisfied: scikit-image>=0.21.0 in /opt/conda/envs/pytorch/lib/python3.10/site-packages (from albumentations) (0.23.2)\n",
      "Requirement already satisfied: PyYAML in /opt/conda/envs/pytorch/lib/python3.10/site-packages (from albumentations) (6.0.1)\n",
      "Requirement already satisfied: typing-extensions>=4.9.0 in /opt/conda/envs/pytorch/lib/python3.10/site-packages (from albumentations) (4.11.0)\n",
      "Requirement already satisfied: scikit-learn>=1.3.2 in /opt/conda/envs/pytorch/lib/python3.10/site-packages (from albumentations) (1.4.2)\n",
      "Requirement already satisfied: pydantic>=2.7.0 in /opt/conda/envs/pytorch/lib/python3.10/site-packages (from albumentations) (2.7.1)\n",
      "Requirement already satisfied: opencv-python-headless>=4.9.0 in /opt/conda/envs/pytorch/lib/python3.10/site-packages (from albumentations) (4.9.0.80)\n",
      "Requirement already satisfied: annotated-types>=0.4.0 in /opt/conda/envs/pytorch/lib/python3.10/site-packages (from pydantic>=2.7.0->albumentations) (0.6.0)\n",
      "Requirement already satisfied: pydantic-core==2.18.2 in /opt/conda/envs/pytorch/lib/python3.10/site-packages (from pydantic>=2.7.0->albumentations) (2.18.2)\n",
      "Requirement already satisfied: networkx>=2.8 in /opt/conda/envs/pytorch/lib/python3.10/site-packages (from scikit-image>=0.21.0->albumentations) (3.3)\n",
      "Requirement already satisfied: pillow>=9.1 in /opt/conda/envs/pytorch/lib/python3.10/site-packages (from scikit-image>=0.21.0->albumentations) (10.3.0)\n",
      "Requirement already satisfied: imageio>=2.33 in /opt/conda/envs/pytorch/lib/python3.10/site-packages (from scikit-image>=0.21.0->albumentations) (2.34.1)\n",
      "Requirement already satisfied: tifffile>=2022.8.12 in /opt/conda/envs/pytorch/lib/python3.10/site-packages (from scikit-image>=0.21.0->albumentations) (2024.4.24)\n",
      "Requirement already satisfied: packaging>=21 in /opt/conda/envs/pytorch/lib/python3.10/site-packages (from scikit-image>=0.21.0->albumentations) (24.0)\n",
      "Requirement already satisfied: lazy-loader>=0.4 in /opt/conda/envs/pytorch/lib/python3.10/site-packages (from scikit-image>=0.21.0->albumentations) (0.4)\n",
      "Requirement already satisfied: joblib>=1.2.0 in /opt/conda/envs/pytorch/lib/python3.10/site-packages (from scikit-learn>=1.3.2->albumentations) (1.4.0)\n",
      "Requirement already satisfied: threadpoolctl>=2.0.0 in /opt/conda/envs/pytorch/lib/python3.10/site-packages (from scikit-learn>=1.3.2->albumentations) (3.5.0)\n",
      "\u001b[33mWARNING: Ignoring invalid distribution -orch (/opt/conda/envs/pytorch/lib/python3.10/site-packages)\u001b[0m\u001b[33m\n",
      "\u001b[0m"
     ]
    }
   ],
   "source": [
    "!pip install -U albumentations"
   ]
  },
  {
   "cell_type": "code",
   "execution_count": 7,
   "id": "8f3124c2-4b1f-4dc0-888e-4ddfe5c52f8c",
   "metadata": {
    "tags": []
   },
   "outputs": [],
   "source": [
    "def __init__(self, p=1.0):\n",
    "        \"\"\"Initialize the transform object for YOLO bbox formatted params.\"\"\"\n",
    "        self.p = p\n",
    "        self.transform = None\n",
    "        prefix = colorstr(\"albumentations: \")\n",
    "        try:\n",
    "            import albumentations as A\n",
    "            \n",
    "            spatial_transforms = {\n",
    "                \"Affine\",\n",
    "                \"BBoxSafeRandomCrop\",\n",
    "                \"CenterCrop\",\n",
    "                \"CoarseDropout\",\n",
    "                \"Crop\",\n",
    "                \"CropAndPad\",\n",
    "                \"CropNonEmptyMaskIfExists\",\n",
    "                \"D4\",\n",
    "                \"ElasticTransform\",\n",
    "                \"Flip\",\n",
    "                \"GridDistortion\",\n",
    "                \"GridDropout\",\n",
    "                \"HorizontalFlip\",\n",
    "                \"Lambda\",\n",
    "                \"LongestMaxSize\",\n",
    "                \"MaskDropout\",\n",
    "                \"MixUp\",\n",
    "                \"Morphological\",\n",
    "                \"NoOp\",\n",
    "                \"OpticalDistortion\",\n",
    "                \"PadIfNeeded\",\n",
    "                \"Perspective\",\n",
    "                \"PiecewiseAffine\",\n",
    "                \"PixelDropout\",\n",
    "                \"RandomCrop\",\n",
    "                \"RandomCropFromBorders\",\n",
    "                \"RandomGridShuffle\",\n",
    "                \"RandomResizedCrop\",\n",
    "                \"RandomRotate90\",\n",
    "                \"RandomScale\",\n",
    "                \"RandomSizedBBoxSafeCrop\",\n",
    "                \"RandomSizedCrop\",\n",
    "                \"Resize\",\n",
    "                \"Rotate\",\n",
    "                \"SafeRotate\",\n",
    "                \"ShiftScaleRotate\",\n",
    "                \"SmallestMaxSize\",\n",
    "                \"Transpose\",\n",
    "                \"VerticalFlip\",\n",
    "                \"XYMasking\",\n",
    "            }  # from https://albumentations.ai/docs/getting_started/transforms_and_targets/#spatial-level-transforms\n",
    "\n",
    "            # Insert required transformation here\n",
    "            T = [\n",
    "                # A.RandomRain(p=0.4, slant_lower=-10, slant_upper=10, \n",
    "                #               drop_length=20, drop_width=1, drop_color=(200, 200, 200), \n",
    "                #               blur_value=5, brightness_coefficient=0.9, rain_type=None),\n",
    "                # A.Rotate(limit = 10, p=0.5),\n",
    "                # A.Blur(p=0.1),\n",
    "                # A.HorizontalFlip(p=0.5),  # Adds horizontal flipping with a 50% probability\n",
    "                # A.VerticalFlip(p=0.5),    # Adds \n",
    "                # A.MedianBlur(p=0.1),\n",
    "                # A.ImageCompression(quality_lower=75, p=0.0),\n",
    "                A.Rotate(limit=15, p=0.3),\n",
    "                A.Blur(blur_limit=(3, 5), p=0.3),\n",
    "                A.RandomSizedCrop(min_max_height=(int(0.8 * 640), 640), height=640, width=640, p=0.3)\n",
    "            ]\n",
    "\n",
    "            self.contains_spatial = any(transform.__class__.__name__ in spatial_transforms for transform in T)\n",
    "            self.transform = (\n",
    "                A.Compose(T, bbox_params=A.BboxParams(format=\"yolo\", label_fields=[\"class_labels\"]))\n",
    "                if self.contains_spatial\n",
    "                else A.Compose(T)\n",
    "            )\n",
    "            \n",
    "            LOGGER.info(prefix + \", \".join(f\"{x}\".replace(\"always_apply=False, \", \"\") for x in T if x.p))\n",
    "        except ImportError:  # package not installed, skip\n",
    "            print(\"Importing error\")\n",
    "        except Exception as e:\n",
    "            LOGGER.info(f\"{prefix}{e}\")\n",
    "\n",
    "Albumentations.__init__ = __init__"
   ]
  },
  {
   "cell_type": "code",
   "execution_count": null,
   "id": "1fcbfa3f-fc2a-4e55-ae6a-e07c193618b6",
   "metadata": {
    "tags": []
   },
   "outputs": [
    {
     "name": "stdout",
     "output_type": "stream",
     "text": [
      "New https://pypi.org/project/ultralytics/8.2.26 available 😃 Update with 'pip install -U ultralytics'\n",
      "Ultralytics YOLOv8.2.22 🚀 Python-3.10.14 torch-1.13.1+cu117 CUDA:0 (Tesla T4, 14918MiB)\n",
      "WARNING ⚠️ Upgrade to torch>=2.0.0 for deterministic training.\n",
      "\u001b[34m\u001b[1mengine/trainer: \u001b[0mtask=detect, mode=train, model=yolov8x-worldv2.pt, data=data/data.yaml, epochs=100, time=None, patience=100, batch=8, imgsz=640, save=True, save_period=-1, cache=False, device=None, workers=8, project=None, name=train23, exist_ok=False, pretrained=True, optimizer=auto, verbose=True, seed=0, deterministic=True, single_cls=False, rect=False, cos_lr=False, close_mosaic=10, resume=False, amp=True, fraction=1.0, profile=False, freeze=None, multi_scale=False, overlap_mask=True, mask_ratio=4, dropout=0.0, val=True, split=val, save_json=False, save_hybrid=False, conf=None, iou=0.7, max_det=300, half=False, dnn=False, plots=True, source=None, vid_stride=1, stream_buffer=False, visualize=False, augment=True, agnostic_nms=False, classes=None, retina_masks=False, embed=None, show=False, save_frames=False, save_txt=False, save_conf=False, save_crop=False, show_labels=True, show_conf=True, show_boxes=True, line_width=None, format=torchscript, keras=False, optimize=False, int8=False, dynamic=False, simplify=False, opset=None, workspace=4, nms=False, lr0=0.01, lrf=0.01, momentum=0.937, weight_decay=0.0005, warmup_epochs=3.0, warmup_momentum=0.8, warmup_bias_lr=0.1, box=7.5, cls=0.5, dfl=1.5, pose=12.0, kobj=1.0, label_smoothing=0.0, nbs=64, hsv_h=0.015, hsv_s=0.7, hsv_v=0.4, degrees=0.0, translate=0.1, scale=0.5, shear=0.0, perspective=0.0, flipud=0.0, fliplr=0.5, bgr=0.0, mosaic=1.0, mixup=0.0, copy_paste=0.0, auto_augment=randaugment, erasing=0.4, crop_fraction=1.0, cfg=None, tracker=botsort.yaml, save_dir=runs/detect/train23\n",
      "\n",
      "                   from  n    params  module                                       arguments                     \n",
      "  0                  -1  1      2320  ultralytics.nn.modules.conv.Conv             [3, 80, 3, 2]                 \n",
      "  1                  -1  1    115520  ultralytics.nn.modules.conv.Conv             [80, 160, 3, 2]               \n",
      "  2                  -1  3    436800  ultralytics.nn.modules.block.C2f             [160, 160, 3, True]           \n",
      "  3                  -1  1    461440  ultralytics.nn.modules.conv.Conv             [160, 320, 3, 2]              \n",
      "  4                  -1  6   3281920  ultralytics.nn.modules.block.C2f             [320, 320, 6, True]           \n",
      "  5                  -1  1   1844480  ultralytics.nn.modules.conv.Conv             [320, 640, 3, 2]              \n",
      "  6                  -1  6  13117440  ultralytics.nn.modules.block.C2f             [640, 640, 6, True]           \n",
      "  7                  -1  1   3687680  ultralytics.nn.modules.conv.Conv             [640, 640, 3, 2]              \n",
      "  8                  -1  3   6969600  ultralytics.nn.modules.block.C2f             [640, 640, 3, True]           \n",
      "  9                  -1  1   1025920  ultralytics.nn.modules.block.SPPF            [640, 640, 5]                 \n",
      " 10                  -1  1         0  torch.nn.modules.upsampling.Upsample         [None, 2, 'nearest']          \n",
      " 11             [-1, 6]  1         0  ultralytics.nn.modules.conv.Concat           [1]                           \n",
      " 12                  -1  3   8670410  ultralytics.nn.modules.block.C2fAttn         [1280, 640, 3, 320, 10]       \n",
      " 13                  -1  1         0  torch.nn.modules.upsampling.Upsample         [None, 2, 'nearest']          \n",
      " 14             [-1, 4]  1         0  ultralytics.nn.modules.conv.Concat           [1]                           \n",
      " 15                  -1  3   2312805  ultralytics.nn.modules.block.C2fAttn         [960, 320, 3, 160, 5]         \n",
      " 16                  15  1    922240  ultralytics.nn.modules.conv.Conv             [320, 320, 3, 2]              \n",
      " 17            [-1, 12]  1         0  ultralytics.nn.modules.conv.Concat           [1]                           \n",
      " 18                  -1  3   8465610  ultralytics.nn.modules.block.C2fAttn         [960, 640, 3, 320, 10]        \n",
      " 19                  -1  1   3687680  ultralytics.nn.modules.conv.Conv             [640, 640, 3, 2]              \n",
      " 20             [-1, 9]  1         0  ultralytics.nn.modules.conv.Concat           [1]                           \n",
      " 21                  -1  3   8670410  ultralytics.nn.modules.block.C2fAttn         [1280, 640, 3, 320, 10]       \n",
      " 22        [15, 18, 21]  1   9214102  ultralytics.nn.modules.head.WorldDetect      [80, 512, True, [320, 640, 640]]\n",
      "YOLOv8x-worldv2 summary: 396 layers, 72886377 parameters, 72886361 gradients, 309.3 GFLOPs\n",
      "\n",
      "Transferred 649/652 items from pretrained weights\n",
      "\u001b[34m\u001b[1mTensorBoard: \u001b[0mStart with 'tensorboard --logdir runs/detect/train23', view at http://localhost:6006/\n",
      "Freezing layer 'model.22.dfl.conv.weight'\n",
      "\u001b[34m\u001b[1mAMP: \u001b[0mrunning Automatic Mixed Precision (AMP) checks with YOLOv8n...\n",
      "\u001b[34m\u001b[1mAMP: \u001b[0mchecks passed ✅\n"
     ]
    },
    {
     "name": "stderr",
     "output_type": "stream",
     "text": [
      "\u001b[34m\u001b[1mtrain: \u001b[0mScanning /home/jupyter/data/train/labels.cache... 4596 images, 0 backgrounds, 0 corrupt: 100%|██████████| 4596/4596 [00:00<?, ?it/s]"
     ]
    },
    {
     "name": "stdout",
     "output_type": "stream",
     "text": [
      "\u001b[34m\u001b[1malbumentations: \u001b[0mRotate(p=0.3, limit=(-15, 15), interpolation=1, border_mode=4, value=None, mask_value=None), Blur(p=0.3, blur_limit=(3, 5)), RandomSizedCrop(p=0.3, min_max_height=(512, 640), height=640, width=640, w2h_ratio=1.0, interpolation=1)\n"
     ]
    },
    {
     "name": "stderr",
     "output_type": "stream",
     "text": [
      "\n",
      "\u001b[34m\u001b[1mval: \u001b[0mScanning /home/jupyter/data/val/labels.cache... 511 images, 0 backgrounds, 0 corrupt: 100%|██████████| 511/511 [00:00<?, ?it/s]\n"
     ]
    },
    {
     "name": "stdout",
     "output_type": "stream",
     "text": [
      "Plotting labels to runs/detect/train23/labels.jpg... \n",
      "\u001b[34m\u001b[1moptimizer:\u001b[0m 'optimizer=auto' found, ignoring 'lr0=0.01' and 'momentum=0.937' and determining best 'optimizer', 'lr0' and 'momentum' automatically... \n",
      "\u001b[34m\u001b[1moptimizer:\u001b[0m AdamW(lr=7.7e-05, momentum=0.9) with parameter groups 104 weight(decay=0.0), 115 weight(decay=0.0005), 121 bias(decay=0.0)\n",
      "\u001b[34m\u001b[1mTensorBoard: \u001b[0mmodel graph visualization added ✅\n",
      "Image sizes 640 train, 640 val\n",
      "Using 4 dataloader workers\n",
      "Logging results to \u001b[1mruns/detect/train23\u001b[0m\n",
      "Starting training for 100 epochs...\n",
      "\n",
      "      Epoch    GPU_mem   box_loss   cls_loss   dfl_loss  Instances       Size\n"
     ]
    },
    {
     "name": "stderr",
     "output_type": "stream",
     "text": [
      "      1/100      9.67G      1.394      3.371     0.9754         49        640: 100%|██████████| 575/575 [11:27<00:00,  1.20s/it]\n",
      "                 Class     Images  Instances      Box(P          R      mAP50  mAP50-95): 100%|██████████| 32/32 [00:10<00:00,  3.08it/s]\n"
     ]
    },
    {
     "name": "stdout",
     "output_type": "stream",
     "text": [
      "                   all        511       2801      0.211      0.346      0.225      0.169\n",
      "\n",
      "      Epoch    GPU_mem   box_loss   cls_loss   dfl_loss  Instances       Size\n"
     ]
    },
    {
     "name": "stderr",
     "output_type": "stream",
     "text": [
      "      2/100      8.65G      1.225      2.016     0.9219         39        640: 100%|██████████| 575/575 [11:19<00:00,  1.18s/it]\n",
      "                 Class     Images  Instances      Box(P          R      mAP50  mAP50-95): 100%|██████████| 32/32 [00:10<00:00,  3.17it/s]\n"
     ]
    },
    {
     "name": "stdout",
     "output_type": "stream",
     "text": [
      "                   all        511       2801      0.494      0.489      0.491      0.362\n",
      "\n",
      "      Epoch    GPU_mem   box_loss   cls_loss   dfl_loss  Instances       Size\n"
     ]
    },
    {
     "name": "stderr",
     "output_type": "stream",
     "text": [
      "      3/100      8.64G      1.161      1.545     0.9084         28        640: 100%|██████████| 575/575 [11:15<00:00,  1.17s/it]\n",
      "                 Class     Images  Instances      Box(P          R      mAP50  mAP50-95): 100%|██████████| 32/32 [00:10<00:00,  3.20it/s]"
     ]
    },
    {
     "name": "stdout",
     "output_type": "stream",
     "text": [
      "                   all        511       2801      0.662      0.601      0.655      0.495\n"
     ]
    },
    {
     "name": "stderr",
     "output_type": "stream",
     "text": [
      "\n"
     ]
    },
    {
     "name": "stdout",
     "output_type": "stream",
     "text": [
      "\n",
      "      Epoch    GPU_mem   box_loss   cls_loss   dfl_loss  Instances       Size\n"
     ]
    },
    {
     "name": "stderr",
     "output_type": "stream",
     "text": [
      "      4/100      8.62G      1.122      1.286     0.8972         37        640: 100%|██████████| 575/575 [11:14<00:00,  1.17s/it]\n",
      "                 Class     Images  Instances      Box(P          R      mAP50  mAP50-95): 100%|██████████| 32/32 [00:09<00:00,  3.22it/s]"
     ]
    },
    {
     "name": "stdout",
     "output_type": "stream",
     "text": [
      "                   all        511       2801      0.679      0.686      0.742      0.557\n"
     ]
    },
    {
     "name": "stderr",
     "output_type": "stream",
     "text": [
      "\n"
     ]
    },
    {
     "name": "stdout",
     "output_type": "stream",
     "text": [
      "\n",
      "      Epoch    GPU_mem   box_loss   cls_loss   dfl_loss  Instances       Size\n"
     ]
    },
    {
     "name": "stderr",
     "output_type": "stream",
     "text": [
      "      5/100      8.64G      1.095      1.119     0.8877         30        640: 100%|██████████| 575/575 [11:13<00:00,  1.17s/it]\n",
      "                 Class     Images  Instances      Box(P          R      mAP50  mAP50-95): 100%|██████████| 32/32 [00:09<00:00,  3.23it/s]"
     ]
    },
    {
     "name": "stdout",
     "output_type": "stream",
     "text": [
      "                   all        511       2801      0.725      0.758      0.798      0.591\n"
     ]
    },
    {
     "name": "stderr",
     "output_type": "stream",
     "text": [
      "\n"
     ]
    },
    {
     "name": "stdout",
     "output_type": "stream",
     "text": [
      "\n",
      "      Epoch    GPU_mem   box_loss   cls_loss   dfl_loss  Instances       Size\n"
     ]
    },
    {
     "name": "stderr",
     "output_type": "stream",
     "text": [
      "      6/100      8.65G      1.064      1.007     0.8831         38        640: 100%|██████████| 575/575 [11:13<00:00,  1.17s/it]\n",
      "                 Class     Images  Instances      Box(P          R      mAP50  mAP50-95): 100%|██████████| 32/32 [00:09<00:00,  3.25it/s]"
     ]
    },
    {
     "name": "stdout",
     "output_type": "stream",
     "text": [
      "                   all        511       2801      0.847      0.757      0.842      0.635\n"
     ]
    },
    {
     "name": "stderr",
     "output_type": "stream",
     "text": [
      "\n"
     ]
    },
    {
     "name": "stdout",
     "output_type": "stream",
     "text": [
      "\n",
      "      Epoch    GPU_mem   box_loss   cls_loss   dfl_loss  Instances       Size\n"
     ]
    },
    {
     "name": "stderr",
     "output_type": "stream",
     "text": [
      "      7/100      8.65G       1.06     0.9366     0.8813         44        640: 100%|██████████| 575/575 [11:14<00:00,  1.17s/it]\n",
      "                 Class     Images  Instances      Box(P          R      mAP50  mAP50-95): 100%|██████████| 32/32 [00:09<00:00,  3.22it/s]"
     ]
    },
    {
     "name": "stdout",
     "output_type": "stream",
     "text": [
      "                   all        511       2801       0.87      0.775      0.861      0.645\n"
     ]
    },
    {
     "name": "stderr",
     "output_type": "stream",
     "text": [
      "\n"
     ]
    },
    {
     "name": "stdout",
     "output_type": "stream",
     "text": [
      "\n",
      "      Epoch    GPU_mem   box_loss   cls_loss   dfl_loss  Instances       Size\n"
     ]
    },
    {
     "name": "stderr",
     "output_type": "stream",
     "text": [
      "      8/100      8.62G      1.031     0.8744     0.8705         32        640: 100%|██████████| 575/575 [11:14<00:00,  1.17s/it]\n",
      "                 Class     Images  Instances      Box(P          R      mAP50  mAP50-95): 100%|██████████| 32/32 [00:09<00:00,  3.22it/s]"
     ]
    },
    {
     "name": "stdout",
     "output_type": "stream",
     "text": [
      "                   all        511       2801      0.851      0.804      0.878      0.655\n"
     ]
    },
    {
     "name": "stderr",
     "output_type": "stream",
     "text": [
      "\n"
     ]
    },
    {
     "name": "stdout",
     "output_type": "stream",
     "text": [
      "\n",
      "      Epoch    GPU_mem   box_loss   cls_loss   dfl_loss  Instances       Size\n"
     ]
    },
    {
     "name": "stderr",
     "output_type": "stream",
     "text": [
      "      9/100      8.64G      1.026     0.8305     0.8722         37        640: 100%|██████████| 575/575 [11:14<00:00,  1.17s/it]\n",
      "                 Class     Images  Instances      Box(P          R      mAP50  mAP50-95): 100%|██████████| 32/32 [00:09<00:00,  3.23it/s]"
     ]
    },
    {
     "name": "stdout",
     "output_type": "stream",
     "text": [
      "                   all        511       2801      0.865      0.828      0.898      0.674\n"
     ]
    },
    {
     "name": "stderr",
     "output_type": "stream",
     "text": [
      "\n"
     ]
    },
    {
     "name": "stdout",
     "output_type": "stream",
     "text": [
      "\n",
      "      Epoch    GPU_mem   box_loss   cls_loss   dfl_loss  Instances       Size\n"
     ]
    },
    {
     "name": "stderr",
     "output_type": "stream",
     "text": [
      "     10/100      8.65G      1.008     0.7758     0.8678         47        640: 100%|██████████| 575/575 [11:14<00:00,  1.17s/it]\n",
      "                 Class     Images  Instances      Box(P          R      mAP50  mAP50-95): 100%|██████████| 32/32 [00:10<00:00,  3.14it/s]"
     ]
    },
    {
     "name": "stdout",
     "output_type": "stream",
     "text": [
      "                   all        511       2801      0.866      0.858      0.907      0.687\n"
     ]
    },
    {
     "name": "stderr",
     "output_type": "stream",
     "text": [
      "\n"
     ]
    },
    {
     "name": "stdout",
     "output_type": "stream",
     "text": [
      "\n",
      "      Epoch    GPU_mem   box_loss   cls_loss   dfl_loss  Instances       Size\n"
     ]
    },
    {
     "name": "stderr",
     "output_type": "stream",
     "text": [
      "     11/100      8.64G      1.004     0.7578     0.8684         42        640: 100%|██████████| 575/575 [11:14<00:00,  1.17s/it]\n",
      "                 Class     Images  Instances      Box(P          R      mAP50  mAP50-95): 100%|██████████| 32/32 [00:09<00:00,  3.25it/s]"
     ]
    },
    {
     "name": "stdout",
     "output_type": "stream",
     "text": [
      "                   all        511       2801      0.885      0.865      0.918      0.691\n"
     ]
    },
    {
     "name": "stderr",
     "output_type": "stream",
     "text": [
      "\n"
     ]
    },
    {
     "name": "stdout",
     "output_type": "stream",
     "text": [
      "\n",
      "      Epoch    GPU_mem   box_loss   cls_loss   dfl_loss  Instances       Size\n"
     ]
    },
    {
     "name": "stderr",
     "output_type": "stream",
     "text": [
      "     12/100      8.64G     0.9848     0.7185     0.8632         33        640: 100%|██████████| 575/575 [11:14<00:00,  1.17s/it]\n",
      "                 Class     Images  Instances      Box(P          R      mAP50  mAP50-95): 100%|██████████| 32/32 [00:09<00:00,  3.20it/s]"
     ]
    },
    {
     "name": "stdout",
     "output_type": "stream",
     "text": [
      "                   all        511       2801      0.882      0.879      0.927      0.696\n"
     ]
    },
    {
     "name": "stderr",
     "output_type": "stream",
     "text": [
      "\n"
     ]
    },
    {
     "name": "stdout",
     "output_type": "stream",
     "text": [
      "\n",
      "      Epoch    GPU_mem   box_loss   cls_loss   dfl_loss  Instances       Size\n"
     ]
    },
    {
     "name": "stderr",
     "output_type": "stream",
     "text": [
      "     13/100      8.64G     0.9743     0.6955     0.8597         52        640: 100%|██████████| 575/575 [11:13<00:00,  1.17s/it]\n",
      "                 Class     Images  Instances      Box(P          R      mAP50  mAP50-95): 100%|██████████| 32/32 [00:09<00:00,  3.24it/s]"
     ]
    },
    {
     "name": "stdout",
     "output_type": "stream",
     "text": [
      "                   all        511       2801      0.906      0.892      0.935      0.724\n"
     ]
    },
    {
     "name": "stderr",
     "output_type": "stream",
     "text": [
      "\n"
     ]
    },
    {
     "name": "stdout",
     "output_type": "stream",
     "text": [
      "\n",
      "      Epoch    GPU_mem   box_loss   cls_loss   dfl_loss  Instances       Size\n"
     ]
    },
    {
     "name": "stderr",
     "output_type": "stream",
     "text": [
      "     14/100      8.64G     0.9672     0.6773     0.8592         29        640: 100%|██████████| 575/575 [11:14<00:00,  1.17s/it]\n",
      "                 Class     Images  Instances      Box(P          R      mAP50  mAP50-95): 100%|██████████| 32/32 [00:09<00:00,  3.25it/s]"
     ]
    },
    {
     "name": "stdout",
     "output_type": "stream",
     "text": [
      "                   all        511       2801      0.912      0.895      0.941      0.712\n"
     ]
    },
    {
     "name": "stderr",
     "output_type": "stream",
     "text": [
      "\n"
     ]
    },
    {
     "name": "stdout",
     "output_type": "stream",
     "text": [
      "\n",
      "      Epoch    GPU_mem   box_loss   cls_loss   dfl_loss  Instances       Size\n"
     ]
    },
    {
     "name": "stderr",
     "output_type": "stream",
     "text": [
      "     15/100      8.65G     0.9481     0.6498     0.8532         40        640: 100%|██████████| 575/575 [11:13<00:00,  1.17s/it]\n",
      "                 Class     Images  Instances      Box(P          R      mAP50  mAP50-95): 100%|██████████| 32/32 [00:09<00:00,  3.25it/s]"
     ]
    },
    {
     "name": "stdout",
     "output_type": "stream",
     "text": [
      "                   all        511       2801      0.905      0.903      0.943      0.711\n"
     ]
    },
    {
     "name": "stderr",
     "output_type": "stream",
     "text": [
      "\n"
     ]
    },
    {
     "name": "stdout",
     "output_type": "stream",
     "text": [
      "\n",
      "      Epoch    GPU_mem   box_loss   cls_loss   dfl_loss  Instances       Size\n"
     ]
    },
    {
     "name": "stderr",
     "output_type": "stream",
     "text": [
      "     16/100      8.64G     0.9503     0.6391     0.8551         43        640: 100%|██████████| 575/575 [11:13<00:00,  1.17s/it]\n",
      "                 Class     Images  Instances      Box(P          R      mAP50  mAP50-95): 100%|██████████| 32/32 [00:09<00:00,  3.23it/s]"
     ]
    },
    {
     "name": "stdout",
     "output_type": "stream",
     "text": [
      "                   all        511       2801      0.923      0.908       0.95       0.72\n"
     ]
    },
    {
     "name": "stderr",
     "output_type": "stream",
     "text": [
      "\n"
     ]
    },
    {
     "name": "stdout",
     "output_type": "stream",
     "text": [
      "\n",
      "      Epoch    GPU_mem   box_loss   cls_loss   dfl_loss  Instances       Size\n"
     ]
    },
    {
     "name": "stderr",
     "output_type": "stream",
     "text": [
      "     17/100      8.64G      0.946     0.6289     0.8527         41        640: 100%|██████████| 575/575 [11:13<00:00,  1.17s/it]\n",
      "                 Class     Images  Instances      Box(P          R      mAP50  mAP50-95): 100%|██████████| 32/32 [00:09<00:00,  3.24it/s]"
     ]
    },
    {
     "name": "stdout",
     "output_type": "stream",
     "text": [
      "                   all        511       2801      0.932      0.894      0.951      0.725\n"
     ]
    },
    {
     "name": "stderr",
     "output_type": "stream",
     "text": [
      "\n"
     ]
    },
    {
     "name": "stdout",
     "output_type": "stream",
     "text": [
      "\n",
      "      Epoch    GPU_mem   box_loss   cls_loss   dfl_loss  Instances       Size\n"
     ]
    },
    {
     "name": "stderr",
     "output_type": "stream",
     "text": [
      "     18/100      8.64G      0.932     0.6081     0.8507         40        640: 100%|██████████| 575/575 [11:13<00:00,  1.17s/it]\n",
      "                 Class     Images  Instances      Box(P          R      mAP50  mAP50-95): 100%|██████████| 32/32 [00:09<00:00,  3.25it/s]"
     ]
    },
    {
     "name": "stdout",
     "output_type": "stream",
     "text": [
      "                   all        511       2801       0.94      0.903      0.953      0.727\n"
     ]
    },
    {
     "name": "stderr",
     "output_type": "stream",
     "text": [
      "\n"
     ]
    },
    {
     "name": "stdout",
     "output_type": "stream",
     "text": [
      "\n",
      "      Epoch    GPU_mem   box_loss   cls_loss   dfl_loss  Instances       Size\n"
     ]
    },
    {
     "name": "stderr",
     "output_type": "stream",
     "text": [
      "     19/100      8.64G     0.9241     0.5975     0.8486         44        640: 100%|██████████| 575/575 [11:13<00:00,  1.17s/it]\n",
      "                 Class     Images  Instances      Box(P          R      mAP50  mAP50-95): 100%|██████████| 32/32 [00:09<00:00,  3.27it/s]"
     ]
    },
    {
     "name": "stdout",
     "output_type": "stream",
     "text": [
      "                   all        511       2801      0.939      0.915      0.959      0.733\n"
     ]
    },
    {
     "name": "stderr",
     "output_type": "stream",
     "text": [
      "\n"
     ]
    },
    {
     "name": "stdout",
     "output_type": "stream",
     "text": [
      "\n",
      "      Epoch    GPU_mem   box_loss   cls_loss   dfl_loss  Instances       Size\n"
     ]
    },
    {
     "name": "stderr",
     "output_type": "stream",
     "text": [
      "     20/100      8.62G     0.9161     0.5824     0.8467         33        640: 100%|██████████| 575/575 [11:16<00:00,  1.18s/it]\n",
      "                 Class     Images  Instances      Box(P          R      mAP50  mAP50-95): 100%|██████████| 32/32 [00:09<00:00,  3.21it/s]"
     ]
    },
    {
     "name": "stdout",
     "output_type": "stream",
     "text": [
      "                   all        511       2801      0.942      0.927      0.963      0.736\n"
     ]
    },
    {
     "name": "stderr",
     "output_type": "stream",
     "text": [
      "\n"
     ]
    },
    {
     "name": "stdout",
     "output_type": "stream",
     "text": [
      "\n",
      "      Epoch    GPU_mem   box_loss   cls_loss   dfl_loss  Instances       Size\n"
     ]
    },
    {
     "name": "stderr",
     "output_type": "stream",
     "text": [
      "     21/100      8.65G      0.907     0.5671     0.8463         16        640: 100%|██████████| 575/575 [11:19<00:00,  1.18s/it]\n",
      "                 Class     Images  Instances      Box(P          R      mAP50  mAP50-95): 100%|██████████| 32/32 [00:09<00:00,  3.22it/s]"
     ]
    },
    {
     "name": "stdout",
     "output_type": "stream",
     "text": [
      "                   all        511       2801      0.944      0.935      0.965      0.732\n"
     ]
    },
    {
     "name": "stderr",
     "output_type": "stream",
     "text": [
      "\n"
     ]
    },
    {
     "name": "stdout",
     "output_type": "stream",
     "text": [
      "\n",
      "      Epoch    GPU_mem   box_loss   cls_loss   dfl_loss  Instances       Size\n"
     ]
    },
    {
     "name": "stderr",
     "output_type": "stream",
     "text": [
      "     22/100      8.65G     0.9068     0.5629     0.8458         41        640: 100%|██████████| 575/575 [11:13<00:00,  1.17s/it]\n",
      "                 Class     Images  Instances      Box(P          R      mAP50  mAP50-95): 100%|██████████| 32/32 [00:09<00:00,  3.26it/s]"
     ]
    },
    {
     "name": "stdout",
     "output_type": "stream",
     "text": [
      "                   all        511       2801      0.944       0.92      0.964      0.737\n"
     ]
    },
    {
     "name": "stderr",
     "output_type": "stream",
     "text": [
      "\n"
     ]
    },
    {
     "name": "stdout",
     "output_type": "stream",
     "text": [
      "\n",
      "      Epoch    GPU_mem   box_loss   cls_loss   dfl_loss  Instances       Size\n"
     ]
    },
    {
     "name": "stderr",
     "output_type": "stream",
     "text": [
      "     23/100      8.64G     0.9007     0.5545     0.8438         35        640: 100%|██████████| 575/575 [11:13<00:00,  1.17s/it]\n",
      "                 Class     Images  Instances      Box(P          R      mAP50  mAP50-95): 100%|██████████| 32/32 [00:09<00:00,  3.26it/s]"
     ]
    },
    {
     "name": "stdout",
     "output_type": "stream",
     "text": [
      "                   all        511       2801      0.953      0.927      0.967      0.735\n"
     ]
    },
    {
     "name": "stderr",
     "output_type": "stream",
     "text": [
      "\n"
     ]
    },
    {
     "name": "stdout",
     "output_type": "stream",
     "text": [
      "\n",
      "      Epoch    GPU_mem   box_loss   cls_loss   dfl_loss  Instances       Size\n"
     ]
    },
    {
     "name": "stderr",
     "output_type": "stream",
     "text": [
      "     24/100      8.64G     0.8898     0.5419     0.8425         38        640: 100%|██████████| 575/575 [11:13<00:00,  1.17s/it]\n",
      "                 Class     Images  Instances      Box(P          R      mAP50  mAP50-95): 100%|██████████| 32/32 [00:09<00:00,  3.23it/s]"
     ]
    },
    {
     "name": "stdout",
     "output_type": "stream",
     "text": [
      "                   all        511       2801      0.954      0.925      0.968      0.738\n"
     ]
    },
    {
     "name": "stderr",
     "output_type": "stream",
     "text": [
      "\n"
     ]
    },
    {
     "name": "stdout",
     "output_type": "stream",
     "text": [
      "\n",
      "      Epoch    GPU_mem   box_loss   cls_loss   dfl_loss  Instances       Size\n"
     ]
    },
    {
     "name": "stderr",
     "output_type": "stream",
     "text": [
      "     25/100      8.64G     0.8825     0.5367     0.8395         19        640: 100%|██████████| 575/575 [11:14<00:00,  1.17s/it]\n",
      "                 Class     Images  Instances      Box(P          R      mAP50  mAP50-95): 100%|██████████| 32/32 [00:09<00:00,  3.26it/s]"
     ]
    },
    {
     "name": "stdout",
     "output_type": "stream",
     "text": [
      "                   all        511       2801       0.96      0.933      0.971      0.744\n"
     ]
    },
    {
     "name": "stderr",
     "output_type": "stream",
     "text": [
      "\n"
     ]
    },
    {
     "name": "stdout",
     "output_type": "stream",
     "text": [
      "\n",
      "      Epoch    GPU_mem   box_loss   cls_loss   dfl_loss  Instances       Size\n"
     ]
    },
    {
     "name": "stderr",
     "output_type": "stream",
     "text": [
      "     26/100      8.65G     0.8697     0.5191      0.837         25        640: 100%|██████████| 575/575 [11:15<00:00,  1.17s/it]\n",
      "                 Class     Images  Instances      Box(P          R      mAP50  mAP50-95): 100%|██████████| 32/32 [00:09<00:00,  3.22it/s]"
     ]
    },
    {
     "name": "stdout",
     "output_type": "stream",
     "text": [
      "                   all        511       2801      0.954      0.941      0.974      0.746\n"
     ]
    },
    {
     "name": "stderr",
     "output_type": "stream",
     "text": [
      "\n"
     ]
    },
    {
     "name": "stdout",
     "output_type": "stream",
     "text": [
      "\n",
      "      Epoch    GPU_mem   box_loss   cls_loss   dfl_loss  Instances       Size\n"
     ]
    },
    {
     "name": "stderr",
     "output_type": "stream",
     "text": [
      "     27/100      8.65G     0.8749     0.5178     0.8376         38        640: 100%|██████████| 575/575 [11:15<00:00,  1.17s/it]\n",
      "                 Class     Images  Instances      Box(P          R      mAP50  mAP50-95): 100%|██████████| 32/32 [00:09<00:00,  3.26it/s]"
     ]
    },
    {
     "name": "stdout",
     "output_type": "stream",
     "text": [
      "                   all        511       2801      0.963      0.935      0.974      0.747\n"
     ]
    },
    {
     "name": "stderr",
     "output_type": "stream",
     "text": [
      "\n"
     ]
    },
    {
     "name": "stdout",
     "output_type": "stream",
     "text": [
      "\n",
      "      Epoch    GPU_mem   box_loss   cls_loss   dfl_loss  Instances       Size\n"
     ]
    },
    {
     "name": "stderr",
     "output_type": "stream",
     "text": [
      "     28/100      8.63G     0.8721     0.5148     0.8385         27        640: 100%|██████████| 575/575 [11:14<00:00,  1.17s/it]\n",
      "                 Class     Images  Instances      Box(P          R      mAP50  mAP50-95): 100%|██████████| 32/32 [00:09<00:00,  3.27it/s]"
     ]
    },
    {
     "name": "stdout",
     "output_type": "stream",
     "text": [
      "                   all        511       2801      0.959      0.939      0.975      0.753\n"
     ]
    },
    {
     "name": "stderr",
     "output_type": "stream",
     "text": [
      "\n"
     ]
    },
    {
     "name": "stdout",
     "output_type": "stream",
     "text": [
      "\n",
      "      Epoch    GPU_mem   box_loss   cls_loss   dfl_loss  Instances       Size\n"
     ]
    },
    {
     "name": "stderr",
     "output_type": "stream",
     "text": [
      "     29/100      8.64G     0.8599     0.5102      0.837         23        640: 100%|██████████| 575/575 [11:13<00:00,  1.17s/it]\n",
      "                 Class     Images  Instances      Box(P          R      mAP50  mAP50-95): 100%|██████████| 32/32 [00:09<00:00,  3.24it/s]"
     ]
    },
    {
     "name": "stdout",
     "output_type": "stream",
     "text": [
      "                   all        511       2801      0.964      0.941      0.975      0.754\n"
     ]
    },
    {
     "name": "stderr",
     "output_type": "stream",
     "text": [
      "\n"
     ]
    },
    {
     "name": "stdout",
     "output_type": "stream",
     "text": [
      "\n",
      "      Epoch    GPU_mem   box_loss   cls_loss   dfl_loss  Instances       Size\n"
     ]
    },
    {
     "name": "stderr",
     "output_type": "stream",
     "text": [
      "     30/100      8.66G     0.8573     0.5005     0.8349         57        640: 100%|██████████| 575/575 [11:15<00:00,  1.17s/it]\n",
      "                 Class     Images  Instances      Box(P          R      mAP50  mAP50-95): 100%|██████████| 32/32 [00:09<00:00,  3.25it/s]"
     ]
    },
    {
     "name": "stdout",
     "output_type": "stream",
     "text": [
      "                   all        511       2801      0.974      0.933      0.975      0.747\n"
     ]
    },
    {
     "name": "stderr",
     "output_type": "stream",
     "text": [
      "\n"
     ]
    },
    {
     "name": "stdout",
     "output_type": "stream",
     "text": [
      "\n",
      "      Epoch    GPU_mem   box_loss   cls_loss   dfl_loss  Instances       Size\n"
     ]
    },
    {
     "name": "stderr",
     "output_type": "stream",
     "text": [
      "     31/100      8.65G     0.8546     0.4966     0.8339         38        640: 100%|██████████| 575/575 [11:14<00:00,  1.17s/it]\n",
      "                 Class     Images  Instances      Box(P          R      mAP50  mAP50-95): 100%|██████████| 32/32 [00:09<00:00,  3.24it/s]"
     ]
    },
    {
     "name": "stdout",
     "output_type": "stream",
     "text": [
      "                   all        511       2801      0.967      0.941      0.975      0.749\n"
     ]
    },
    {
     "name": "stderr",
     "output_type": "stream",
     "text": [
      "\n"
     ]
    },
    {
     "name": "stdout",
     "output_type": "stream",
     "text": [
      "\n",
      "      Epoch    GPU_mem   box_loss   cls_loss   dfl_loss  Instances       Size\n"
     ]
    },
    {
     "name": "stderr",
     "output_type": "stream",
     "text": [
      "     32/100      8.65G     0.8505     0.4909      0.835         26        640: 100%|██████████| 575/575 [11:14<00:00,  1.17s/it]\n",
      "                 Class     Images  Instances      Box(P          R      mAP50  mAP50-95): 100%|██████████| 32/32 [00:09<00:00,  3.23it/s]"
     ]
    },
    {
     "name": "stdout",
     "output_type": "stream",
     "text": [
      "                   all        511       2801      0.966      0.937      0.976      0.754\n"
     ]
    },
    {
     "name": "stderr",
     "output_type": "stream",
     "text": [
      "\n"
     ]
    },
    {
     "name": "stdout",
     "output_type": "stream",
     "text": [
      "\n",
      "      Epoch    GPU_mem   box_loss   cls_loss   dfl_loss  Instances       Size\n"
     ]
    },
    {
     "name": "stderr",
     "output_type": "stream",
     "text": [
      "     33/100      8.65G     0.8432     0.4865     0.8343         25        640: 100%|██████████| 575/575 [11:14<00:00,  1.17s/it]\n",
      "                 Class     Images  Instances      Box(P          R      mAP50  mAP50-95): 100%|██████████| 32/32 [00:09<00:00,  3.22it/s]"
     ]
    },
    {
     "name": "stdout",
     "output_type": "stream",
     "text": [
      "                   all        511       2801      0.965      0.943      0.977      0.751\n"
     ]
    },
    {
     "name": "stderr",
     "output_type": "stream",
     "text": [
      "\n"
     ]
    },
    {
     "name": "stdout",
     "output_type": "stream",
     "text": [
      "\n",
      "      Epoch    GPU_mem   box_loss   cls_loss   dfl_loss  Instances       Size\n"
     ]
    },
    {
     "name": "stderr",
     "output_type": "stream",
     "text": [
      "     34/100      8.64G     0.8398     0.4768     0.8335         34        640: 100%|██████████| 575/575 [11:14<00:00,  1.17s/it]\n",
      "                 Class     Images  Instances      Box(P          R      mAP50  mAP50-95): 100%|██████████| 32/32 [00:09<00:00,  3.25it/s]"
     ]
    },
    {
     "name": "stdout",
     "output_type": "stream",
     "text": [
      "                   all        511       2801      0.969      0.944      0.977      0.758\n"
     ]
    },
    {
     "name": "stderr",
     "output_type": "stream",
     "text": [
      "\n"
     ]
    },
    {
     "name": "stdout",
     "output_type": "stream",
     "text": [
      "\n",
      "      Epoch    GPU_mem   box_loss   cls_loss   dfl_loss  Instances       Size\n"
     ]
    },
    {
     "name": "stderr",
     "output_type": "stream",
     "text": [
      "     35/100      8.62G     0.8376     0.4777     0.8282         62        640:  38%|███▊      | 218/575 [04:16<06:58,  1.17s/it]"
     ]
    }
   ],
   "source": [
    "results = model.train(data=data_yaml_path, epochs=100, imgsz=640, augment=True, batch=8)\n",
    "\n",
    "# model.save(\"2024_05_29_100epochs_yolov_world.pt\")"
   ]
  },
  {
   "cell_type": "code",
   "execution_count": 10,
   "id": "6def6442-5bcb-4a27-835a-c6cea257d409",
   "metadata": {
    "tags": []
   },
   "outputs": [
    {
     "name": "stdout",
     "output_type": "stream",
     "text": [
      "Ultralytics YOLOv8.2.22 🚀 Python-3.10.14 torch-1.13.1+cu117 CUDA:0 (Tesla T4, 14918MiB)\n",
      "YOLOv8s-worldv2 summary: 422 layers, 164026601 parameters, 151786521 gradients, 61.6 GFLOPs\n"
     ]
    },
    {
     "name": "stderr",
     "output_type": "stream",
     "text": [
      "\u001b[34m\u001b[1mval: \u001b[0mScanning /home/jupyter/data/val/labels.cache... 1022 images, 0 backgrounds, 0 corrupt: 100%|██████████| 1022/1022 [00:00<?, ?it/s]\n",
      "                 Class     Images  Instances      Box(P          R      mAP50  mAP50-95): 100%|██████████| 64/64 [00:37<00:00,  1.70it/s]\n"
     ]
    },
    {
     "name": "stdout",
     "output_type": "stream",
     "text": [
      "                   all       1022       5574      0.215       0.24     0.0188     0.0138\n",
      "          grey missile       1022         54          1          0    0.00537    0.00322\n",
      "red, white, and blue light aircraft       1022         52     0.0139      0.538     0.0155    0.00877\n",
      "green and black missile       1022         44          1          0     0.0421     0.0358\n",
      "white and red helicopter       1022         31     0.0124     0.0323     0.0104     0.0067\n",
      "grey camouflage fighter jet       1022         49          0          0     0.0107     0.0083\n",
      "grey and white fighter plane       1022         52     0.0174      0.673     0.0209      0.016\n",
      " white and black drone       1022         61          0          0     0.0108    0.00647\n",
      "white and black fighter jet       1022         47     0.0164      0.638     0.0183      0.013\n",
      "         white missile       1022         52          1          0     0.0173     0.0134\n",
      "black and white commercial aircraft       1022         41     0.0102      0.756     0.0142     0.0111\n",
      "            grey drone       1022         49          1          0    0.00757    0.00461\n",
      "yellow, red, and grey helicopter       1022         52          0          0    0.00996    0.00412\n",
      "yellow commercial aircraft       1022         44      0.219      0.345      0.149      0.115\n",
      "  black cargo aircraft       1022         56          0          0    0.00477    0.00334\n",
      "     yellow helicopter       1022         52          0          0     0.0065    0.00347\n",
      "white and black light aircraft       1022         59     0.0137      0.729     0.0162      0.012\n",
      "grey and black fighter plane       1022         60     0.0271      0.767     0.0319     0.0205\n",
      "     red fighter plane       1022         70      0.137      0.171     0.0844     0.0671\n",
      "       blue helicopter       1022         42      0.217     0.0238     0.0186     0.0103\n",
      "white, red, and green fighter plane       1022         52     0.0157      0.635     0.0156     0.0125\n",
      "black camouflage fighter jet       1022         46          0          0    0.00535    0.00394\n",
      "  green light aircraft       1022         55    0.00766      0.418    0.00921    0.00703\n",
      "blue and yellow fighter jet       1022         44    0.00629      0.364    0.00796    0.00619\n",
      "     white fighter jet       1022         49     0.0162     0.0408     0.0104    0.00747\n",
      "       red fighter jet       1022         44          0          0      0.016     0.0114\n",
      "blue and white light aircraft       1022         18     0.0035      0.722    0.00592    0.00469\n",
      "white and black helicopter       1022         49      0.015      0.163     0.0149     0.0103\n",
      "white and blue fighter plane       1022         53     0.0159      0.679      0.021      0.016\n",
      "grey commercial aircraft       1022         39          1          0    0.00758    0.00621\n",
      "blue and grey fighter jet       1022         49          0          0     0.0121    0.00932\n",
      "green and brown camouflage fighter jet       1022         44     0.0667     0.0682     0.0179     0.0136\n",
      "  red and grey missile       1022         19          1          0          0          0\n",
      "red and white fighter jet       1022         44     0.0279      0.159     0.0182     0.0139\n",
      " orange light aircraft       1022         50     0.0106       0.58     0.0116    0.00871\n",
      " yellow light aircraft       1022         51     0.0114      0.745     0.0476      0.038\n",
      "white and red light aircraft       1022         49     0.0102      0.673     0.0668     0.0555\n",
      "white and grey helicopter       1022         49     0.0101      0.224    0.00893    0.00469\n",
      "blue, yellow, and green fighter plane       1022         46    0.00982      0.717       0.02     0.0153\n",
      "yellow and red light aircraft       1022         32    0.00667      0.781     0.0291     0.0219\n",
      "blue and white missile       1022         56          0          0    0.00933    0.00667\n",
      "green and white fighter plane       1022         48          0          0     0.0072    0.00543\n",
      "          blue missile       1022         43          1          0          0          0\n",
      "grey, red, and blue commercial aircraft       1022         45      0.021      0.156     0.0397     0.0328\n",
      "  white light aircraft       1022         45     0.0103      0.622     0.0173     0.0127\n",
      "grey and white light aircraft       1022         47    0.00875       0.83     0.0117    0.00884\n",
      "blue and yellow helicopter       1022         54     0.0163      0.333     0.0207     0.0155\n",
      "   white fighter plane       1022         54          0          0    0.00959    0.00657\n",
      "white and blue fighter jet       1022         41     0.0238      0.756     0.0296     0.0214\n",
      "blue camouflage fighter jet       1022         50     0.0852        0.1     0.0264      0.019\n",
      "yellow and green helicopter       1022         57     0.0293      0.281     0.0229    0.00974\n",
      "  silver fighter plane       1022         54          0          0    0.00421    0.00347\n",
      "blue and red light aircraft       1022         55     0.0208      0.673     0.0254     0.0176\n",
      "white and black cargo aircraft       1022         22          0          0          0          0\n",
      "green and yellow fighter plane       1022         51     0.0128      0.549     0.0116    0.00873\n",
      "white and blue cargo aircraft       1022         54          0          0     0.0138     0.0108\n",
      "blue and red commercial aircraft       1022         35     0.0251      0.143     0.0243      0.016\n",
      "blue, yellow, and white cargo aircraft       1022         40     0.0533       0.05     0.0183     0.0148\n",
      "white and yellow commercial aircraft       1022         47     0.0127      0.915     0.0653     0.0505\n",
      " white and red missile       1022         35          1          0     0.0421     0.0215\n",
      "  white cargo aircraft       1022         34          1          0          0          0\n",
      "       grey helicopter       1022         46          1          0    0.00878    0.00589\n",
      "grey and red commercial aircraft       1022         46     0.0842      0.348      0.119      0.092\n",
      "           white drone       1022         53          0          0     0.0146    0.00968\n",
      "yellow, black, and red helicopter       1022         41          1          0    0.00803    0.00596\n",
      "white and blue helicopter       1022         27          0          0    0.00436     0.0028\n",
      "green and grey helicopter       1022         43          1          0    0.00726    0.00475\n",
      "black and brown camouflage helicopter       1022         45     0.0617     0.0667     0.0173     0.0122\n",
      "blue and green fighter plane       1022         51       0.01     0.0588     0.0163     0.0111\n",
      "         green missile       1022         53          1          0      0.118      0.101\n",
      "   grey cargo aircraft       1022         53          1          0      0.014     0.0126\n",
      "    yellow fighter jet       1022         54     0.0835      0.278      0.059     0.0438\n",
      "yellow, red, and blue fighter plane       1022         48     0.0125      0.812     0.0649     0.0443\n",
      "  grey and red missile       1022         27          1          0          0          0\n",
      "orange and black fighter jet       1022         45          1          0    0.00855    0.00538\n",
      "white and blue light aircraft       1022         29    0.00709      0.931     0.0135    0.00942\n",
      "white and black fighter plane       1022         38    0.00831      0.605     0.0092    0.00667\n",
      "grey and green cargo aircraft       1022         53          1          0          0          0\n",
      "blue commercial aircraft       1022         47          0          0     0.0168     0.0148\n",
      "      grey fighter jet       1022         41     0.0238     0.0244     0.0085    0.00557\n",
      "   black fighter plane       1022         49     0.0298      0.245     0.0244      0.018\n",
      "white, black, and red drone       1022         41          0          0     0.0036    0.00187\n",
      "blue and white commercial aircraft       1022         12    0.00623       0.75    0.00716    0.00524\n",
      "red, white, and blue fighter jet       1022         51     0.0416      0.373     0.0351     0.0243\n",
      "white, black, and grey missile       1022         47          0          0     0.0159     0.0133\n",
      "     black fighter jet       1022         50     0.0574       0.04     0.0281     0.0225\n",
      " red and white missile       1022         24          1          0     0.0177     0.0119\n",
      "white and orange light aircraft       1022         51      0.012      0.863     0.0203     0.0155\n",
      "white and red commercial aircraft       1022         58     0.0219       0.19     0.0233      0.018\n",
      "  yellow fighter plane       1022         39     0.0395      0.128     0.0216     0.0143\n",
      "silver and blue fighter plane       1022         51    0.00687     0.0196     0.0106    0.00825\n",
      "grey and red fighter jet       1022         48     0.0375      0.463     0.0319     0.0238\n",
      "        red helicopter       1022         43          1          0     0.0115    0.00686\n",
      "black and white missile       1022         57    0.00437      0.105    0.00688    0.00472\n",
      "grey and black helicopter       1022         50    0.00888       0.06    0.00968    0.00319\n",
      "red and white light aircraft       1022          7    0.00232      0.857    0.00232    0.00176\n",
      "green and black camouflage helicopter       1022         50          1          0          0          0\n",
      "black and orange drone       1022         48          1          0     0.0146     0.0117\n",
      "grey and yellow fighter plane       1022         46     0.0111      0.783     0.0181     0.0125\n",
      "green camouflage helicopter       1022         36          1          0          0          0\n",
      "           black drone       1022         50          0          0    0.00776     0.0051\n",
      "white and blue commercial aircraft       1022         42     0.0268      0.548     0.0468     0.0345\n",
      "blue and white helicopter       1022         19    0.00135     0.0526    0.00143   0.000764\n",
      "   green fighter plane       1022         46          0          0    0.00405     0.0029\n",
      "   red and black drone       1022         53          1          0    0.00408    0.00286\n",
      "white and orange commercial aircraft       1022         47     0.0246      0.362     0.0377     0.0301\n",
      "      green helicopter       1022         58          1          0    0.00488    0.00348\n",
      "      black helicopter       1022         47      0.034     0.0213    0.00828     0.0063\n",
      "white, red, and blue commercial aircraft       1022         13     0.0106      0.462    0.00701    0.00519\n",
      "black and yellow missile       1022         44          0          0    0.00114   0.000968\n",
      "yellow and black fighter plane       1022         46     0.0267      0.261     0.0213     0.0159\n",
      "white, blue, and red commercial aircraft       1022         32    0.00982      0.156    0.00738    0.00537\n",
      "    grey fighter plane       1022         47     0.0156     0.0851    0.00899    0.00686\n",
      "    red light aircraft       1022         51      0.013      0.627     0.0182     0.0127\n",
      "green and brown camouflage fighter plane       1022         53     0.0285       0.17     0.0192     0.0157\n",
      "blue, yellow, and black helicopter       1022         49          0          0    0.00434    0.00136\n",
      "   grey light aircraft       1022         43    0.00734      0.419     0.0092    0.00616\n",
      "white commercial aircraft       1022         48          0          0    0.00848    0.00583\n",
      "green and brown camouflage helicopter       1022         59          0          0          0          0\n",
      "white and red fighter plane       1022         25     0.0123        0.8     0.0217     0.0124\n",
      "red and white fighter plane       1022         21     0.0107      0.143    0.00988    0.00745\n",
      "red and white helicopter       1022         11    0.00587     0.0909    0.00358    0.00112\n",
      "black and white cargo aircraft       1022         22    0.00788      0.136    0.00657    0.00546\n",
      "      white helicopter       1022         41     0.0194      0.146      0.021     0.0148\n",
      "black and yellow drone       1022         55     0.0172      0.164     0.0142       0.01\n",
      "        yellow missile       1022         33          1          0     0.0116    0.00983\n",
      "white and red fighter jet       1022          5    0.00194        0.6    0.00311    0.00226\n",
      "Speed: 0.2ms preprocess, 7.3ms inference, 0.0ms loss, 5.7ms postprocess per image\n",
      "Results saved to \u001b[1mruns/detect/val\u001b[0m\n"
     ]
    }
   ],
   "source": [
    "# Conduct model validation on the COCO8 example dataset\n",
    "metrics = model.val(data=data_yaml_path)"
   ]
  },
  {
   "cell_type": "code",
   "execution_count": 9,
   "id": "f55b7431-95a7-497a-a8c4-a5d7ed7b789c",
   "metadata": {},
   "outputs": [
    {
     "name": "stdout",
     "output_type": "stream",
     "text": [
      "Ultralytics YOLOv8.2.22 🚀 Python-3.10.14 torch-1.13.1+cu117 CUDA:0 (Tesla T4, 14918MiB)\n",
      "YOLOv8s-worldv2 summary (fused): 195 layers, 12749288 parameters, 0 gradients, 61.6 GFLOPs\n"
     ]
    },
    {
     "name": "stderr",
     "output_type": "stream",
     "text": [
      "\u001b[34m\u001b[1mval: \u001b[0mScanning /home/jupyter/data/val/labels.cache... 1022 images, 0 backgrounds, 0 corrupt: 100%|██████████| 1022/1022 [00:00<?, ?it/s]\n",
      "                 Class     Images  Instances      Box(P          R      mAP50  mAP50-95): 100%|██████████| 64/64 [00:15<00:00,  4.00it/s]\n"
     ]
    },
    {
     "name": "stdout",
     "output_type": "stream",
     "text": [
      "                   all       1022       5574      0.922      0.862      0.927      0.722\n",
      "          grey missile       1022         54      0.753      0.556      0.693       0.53\n",
      "red, white, and blue light aircraft       1022         52          1          1      0.995      0.734\n",
      "green and black missile       1022         44      0.917      0.886       0.94      0.757\n",
      "white and red helicopter       1022         31      0.967      0.949      0.982      0.719\n",
      "grey camouflage fighter jet       1022         49      0.752      0.653      0.815      0.641\n",
      "grey and white fighter plane       1022         52      0.916      0.981      0.993      0.801\n",
      " white and black drone       1022         61          1      0.844      0.914      0.692\n",
      "white and black fighter jet       1022         47      0.983      0.979      0.994      0.735\n",
      "         white missile       1022         52       0.74      0.673      0.775      0.575\n",
      "black and white commercial aircraft       1022         41      0.869      0.951      0.984      0.796\n",
      "            grey drone       1022         49      0.796      0.551      0.763      0.543\n",
      "yellow, red, and grey helicopter       1022         52      0.979      0.917      0.979      0.698\n",
      "yellow commercial aircraft       1022         44       0.98          1      0.995      0.873\n",
      "  black cargo aircraft       1022         56      0.984      0.964      0.991      0.793\n",
      "     yellow helicopter       1022         52      0.999      0.885      0.985      0.734\n",
      "white and black light aircraft       1022         59       0.98          1      0.995      0.789\n",
      "grey and black fighter plane       1022         60      0.989      0.967      0.993      0.819\n",
      "     red fighter plane       1022         70       0.99          1      0.995      0.836\n",
      "       blue helicopter       1022         42      0.951       0.81      0.885      0.604\n",
      "white, red, and green fighter plane       1022         52      0.953          1      0.994       0.81\n",
      "black camouflage fighter jet       1022         46      0.983      0.913      0.967      0.735\n",
      "  green light aircraft       1022         55       0.98      0.927      0.955      0.794\n",
      "blue and yellow fighter jet       1022         44       0.91      0.692      0.854      0.689\n",
      "     white fighter jet       1022         49      0.914      0.694      0.812        0.6\n",
      "       red fighter jet       1022         44      0.923      0.523      0.756      0.505\n",
      "blue and white light aircraft       1022         18      0.881      0.778      0.961      0.803\n",
      "white and black helicopter       1022         49      0.976      0.817      0.923      0.642\n",
      "white and blue fighter plane       1022         53      0.821      0.779      0.899      0.709\n",
      "grey commercial aircraft       1022         39      0.767      0.897      0.911      0.718\n",
      "blue and grey fighter jet       1022         49      0.891      0.918      0.964      0.746\n",
      "green and brown camouflage fighter jet       1022         44      0.987      0.864      0.966      0.774\n",
      "  red and grey missile       1022         19      0.947      0.789      0.886      0.683\n",
      "red and white fighter jet       1022         44      0.971      0.753      0.892      0.681\n",
      " orange light aircraft       1022         50          1      0.911      0.992      0.779\n",
      " yellow light aircraft       1022         51      0.949      0.941      0.988      0.788\n",
      "white and red light aircraft       1022         49      0.847       0.79      0.905       0.74\n",
      "white and grey helicopter       1022         49      0.977      0.868      0.955      0.742\n",
      "blue, yellow, and green fighter plane       1022         46      0.918      0.971      0.989      0.781\n",
      "yellow and red light aircraft       1022         32       0.94          1      0.995      0.768\n",
      "blue and white missile       1022         56      0.849      0.821      0.897      0.664\n",
      "green and white fighter plane       1022         48      0.932      0.938      0.946       0.78\n",
      "          blue missile       1022         43      0.947      0.977      0.992      0.766\n",
      "grey, red, and blue commercial aircraft       1022         45      0.918      0.998      0.993        0.8\n",
      "  white light aircraft       1022         45      0.729      0.756      0.785      0.593\n",
      "grey and white light aircraft       1022         47          1      0.798      0.957      0.779\n",
      "blue and yellow helicopter       1022         54          1      0.941      0.987      0.829\n",
      "   white fighter plane       1022         54      0.876      0.524      0.769      0.543\n",
      "white and blue fighter jet       1022         41      0.901      0.951      0.977      0.747\n",
      "blue camouflage fighter jet       1022         50      0.928       0.98      0.988      0.771\n",
      "yellow and green helicopter       1022         57      0.989      0.895       0.97       0.69\n",
      "  silver fighter plane       1022         54       0.99      0.963      0.994      0.785\n",
      "blue and red light aircraft       1022         55      0.962      0.927      0.992      0.772\n",
      "white and black cargo aircraft       1022         22      0.974      0.727      0.773      0.607\n",
      "green and yellow fighter plane       1022         51      0.958      0.897      0.952      0.781\n",
      "white and blue cargo aircraft       1022         54      0.938          1      0.993      0.841\n",
      "blue and red commercial aircraft       1022         35      0.928      0.971       0.99      0.784\n",
      "blue, yellow, and white cargo aircraft       1022         40      0.954      0.975      0.988      0.805\n",
      "white and yellow commercial aircraft       1022         47      0.954      0.979      0.983      0.856\n",
      " white and red missile       1022         35      0.918      0.829      0.929      0.773\n",
      "  white cargo aircraft       1022         34          1      0.874      0.973      0.776\n",
      "       grey helicopter       1022         46      0.866      0.702      0.828      0.606\n",
      "grey and red commercial aircraft       1022         46      0.947      0.957       0.99      0.783\n",
      "           white drone       1022         53      0.854      0.662      0.813      0.544\n",
      "yellow, black, and red helicopter       1022         41      0.958          1      0.995      0.743\n",
      "white and blue helicopter       1022         27      0.747      0.778      0.899      0.582\n",
      "green and grey helicopter       1022         43      0.948       0.84       0.96      0.725\n",
      "black and brown camouflage helicopter       1022         45      0.971      0.911      0.978      0.806\n",
      "blue and green fighter plane       1022         51      0.978      0.961      0.985      0.784\n",
      "         green missile       1022         53      0.953      0.962      0.965      0.767\n",
      "   grey cargo aircraft       1022         53      0.933      0.783      0.906      0.716\n",
      "    yellow fighter jet       1022         54       0.98      0.944      0.992      0.777\n",
      "yellow, red, and blue fighter plane       1022         48          1      0.969      0.994       0.77\n",
      "  grey and red missile       1022         27          1      0.847      0.911      0.707\n",
      "orange and black fighter jet       1022         45      0.951      0.978      0.976      0.748\n",
      "white and blue light aircraft       1022         29      0.912      0.931      0.973      0.764\n",
      "white and black fighter plane       1022         38      0.987          1      0.995      0.838\n",
      "grey and green cargo aircraft       1022         53       0.97      0.887      0.983      0.801\n",
      "blue commercial aircraft       1022         47       0.98      0.979      0.993      0.808\n",
      "      grey fighter jet       1022         41      0.883      0.551      0.694      0.525\n",
      "   black fighter plane       1022         49          1      0.951      0.965      0.748\n",
      "white, black, and red drone       1022         41      0.927      0.878      0.938      0.718\n",
      "blue and white commercial aircraft       1022         12      0.731       0.75      0.769      0.661\n",
      "red, white, and blue fighter jet       1022         51      0.892       0.98      0.992      0.771\n",
      "white, black, and grey missile       1022         47      0.908          1      0.992      0.802\n",
      "     black fighter jet       1022         50       0.96       0.98      0.993      0.796\n",
      " red and white missile       1022         24      0.945      0.792      0.908      0.628\n",
      "white and orange light aircraft       1022         51       0.95       0.98      0.994      0.825\n",
      "white and red commercial aircraft       1022         58      0.856       0.82      0.883      0.688\n",
      "  yellow fighter plane       1022         39      0.956      0.821      0.951      0.629\n",
      "silver and blue fighter plane       1022         51      0.961      0.972      0.992      0.834\n",
      "grey and red fighter jet       1022         48      0.948          1      0.994      0.833\n",
      "        red helicopter       1022         43      0.954      0.977      0.992      0.764\n",
      "black and white missile       1022         57      0.988      0.965      0.981      0.807\n",
      "grey and black helicopter       1022         50      0.971       0.88      0.987      0.747\n",
      "red and white light aircraft       1022          7      0.965          1      0.995      0.824\n",
      "green and black camouflage helicopter       1022         50      0.922       0.76      0.873      0.651\n",
      "black and orange drone       1022         48      0.977          1      0.995      0.826\n",
      "grey and yellow fighter plane       1022         46      0.928      0.846      0.966      0.752\n",
      "green camouflage helicopter       1022         36      0.905      0.889      0.917      0.676\n",
      "           black drone       1022         50      0.892       0.82       0.91      0.663\n",
      "white and blue commercial aircraft       1022         42      0.736       0.69      0.775      0.634\n",
      "blue and white helicopter       1022         19      0.758      0.824      0.886      0.615\n",
      "   green fighter plane       1022         46      0.846      0.718      0.848      0.624\n",
      "   red and black drone       1022         53      0.909      0.925      0.987      0.778\n",
      "white and orange commercial aircraft       1022         47      0.915      0.894      0.955      0.809\n",
      "      green helicopter       1022         58      0.953       0.81      0.883       0.65\n",
      "      black helicopter       1022         47      0.845      0.694      0.864      0.628\n",
      "white, red, and blue commercial aircraft       1022         13      0.784      0.559      0.663      0.538\n",
      "black and yellow missile       1022         44      0.967          1      0.994      0.787\n",
      "yellow and black fighter plane       1022         46      0.972      0.935      0.988      0.789\n",
      "white, blue, and red commercial aircraft       1022         32        0.8       0.75       0.85      0.655\n",
      "    grey fighter plane       1022         47      0.939      0.723      0.814      0.644\n",
      "    red light aircraft       1022         51      0.968       0.98      0.989      0.765\n",
      "green and brown camouflage fighter plane       1022         53      0.972      0.925      0.958      0.812\n",
      "blue, yellow, and black helicopter       1022         49      0.931      0.939      0.977        0.7\n",
      "   grey light aircraft       1022         43      0.874      0.884      0.905      0.727\n",
      "white commercial aircraft       1022         48      0.782      0.522      0.685      0.501\n",
      "green and brown camouflage helicopter       1022         59      0.925      0.833      0.927      0.689\n",
      "white and red fighter plane       1022         25      0.842      0.638      0.817       0.57\n",
      "red and white fighter plane       1022         21      0.581      0.463       0.58      0.479\n",
      "red and white helicopter       1022         11          1      0.483      0.812      0.497\n",
      "black and white cargo aircraft       1022         22      0.943      0.909      0.942       0.76\n",
      "      white helicopter       1022         41      0.957       0.78      0.887      0.674\n",
      "black and yellow drone       1022         55      0.934      0.982      0.994      0.779\n",
      "        yellow missile       1022         33      0.969      0.961      0.991      0.819\n",
      "white and red fighter jet       1022          5          1      0.957      0.995      0.732\n",
      "Speed: 0.2ms preprocess, 6.7ms inference, 0.0ms loss, 2.4ms postprocess per image\n",
      "Results saved to \u001b[1mruns/detect/val2\u001b[0m\n"
     ]
    }
   ],
   "source": [
    "metrics = model.val(data=data_yaml_path)"
   ]
  },
  {
   "cell_type": "code",
   "execution_count": 11,
   "id": "757e558e-f9f5-48d5-b1ad-0bd729421638",
   "metadata": {
    "tags": []
   },
   "outputs": [
    {
     "name": "stdout",
     "output_type": "stream",
     "text": [
      "\n",
      "image 1/1 /home/jupyter/advanced/images/image_0.jpg: 384x640 1 blue, yellow, and green fighter plane, 1 grey and white light aircraft, 1 white and blue fighter jet, 1 yellow, red, and blue fighter plane, 1 black and white missile, 1 grey and yellow fighter plane, 1 white and red fighter jet, 19.6ms\n",
      "Speed: 18.4ms preprocess, 19.6ms inference, 1.4ms postprocess per image at shape (1, 3, 384, 640)\n"
     ]
    },
    {
     "name": "stderr",
     "output_type": "stream",
     "text": [
      "/usr/bin/xdg-open: 882: www-browser: not found\n",
      "/usr/bin/xdg-open: 882: links2: not found\n",
      "/usr/bin/xdg-open: 882: elinks: not found\n",
      "/usr/bin/xdg-open: 882: links: not found\n",
      "/usr/bin/xdg-open: 882: lynx: not found\n",
      "/usr/bin/xdg-open: 882: w3m: not found\n",
      "xdg-open: no method available for opening '/var/tmp/tmptb9y45dh.PNG'\n"
     ]
    }
   ],
   "source": [
    "test_image_path = os.path.join(\"advanced\", \"images\", \"image_0.jpg\")\n",
    "\n",
    "results = model.predict(test_image_path)\n",
    "\n",
    "results[0].show()"
   ]
  },
  {
   "cell_type": "code",
   "execution_count": 17,
   "id": "743ff670-c5be-46e0-9b1e-474c88fc2a53",
   "metadata": {
    "tags": []
   },
   "outputs": [],
   "source": [
    "bboxes = []\n",
    "\n",
    "bboxes_tensors = results[0].boxes.xywh\n",
    "for tensor in bboxes_tensors:\n",
    "    bboxes.append(tensor.cpu().numpy())"
   ]
  },
  {
   "cell_type": "code",
   "execution_count": 18,
   "id": "6b9e5bc6-624c-457b-9974-e873f50d6a03",
   "metadata": {
    "tags": []
   },
   "outputs": [
    {
     "data": {
      "text/plain": [
       "[array([     576.76,      137.63,      99.661,      41.889], dtype=float32),\n",
       " array([        578,      138.45,      98.336,      40.679], dtype=float32),\n",
       " array([     1044.1,      93.673,      30.411,      34.963], dtype=float32),\n",
       " array([     1044.1,      93.753,      30.103,      34.893], dtype=float32),\n",
       " array([     742.72,      538.83,      79.015,      65.385], dtype=float32),\n",
       " array([     580.46,      621.92,      17.883,      17.654], dtype=float32),\n",
       " array([     743.31,      538.85,      80.516,        67.6], dtype=float32)]"
      ]
     },
     "execution_count": 18,
     "metadata": {},
     "output_type": "execute_result"
    }
   ],
   "source": [
    "bboxes"
   ]
  },
  {
   "cell_type": "code",
   "execution_count": 19,
   "id": "b06c1ad3-6001-4922-9b4a-8c61e9bb65c0",
   "metadata": {
    "tags": []
   },
   "outputs": [
    {
     "name": "stderr",
     "output_type": "stream",
     "text": [
      "/usr/bin/xdg-open: 882: www-browser: not found\n",
      "/usr/bin/xdg-open: 882: links2: not found\n",
      "/usr/bin/xdg-open: 882: elinks: not found\n",
      "/usr/bin/xdg-open: 882: links: not found\n",
      "/usr/bin/xdg-open: 882: lynx: not found\n",
      "/usr/bin/xdg-open: 882: w3m: not found\n",
      "xdg-open: no method available for opening '/var/tmp/tmpspw2nzaq.PNG'\n"
     ]
    }
   ],
   "source": [
    "from PIL import Image, ImageDraw\n",
    "import torch\n",
    "\n",
    "image = Image.open(test_image_path)\n",
    "\n",
    "# Create a draw object\n",
    "draw = ImageDraw.Draw(image)\n",
    "\n",
    "for bbox in bboxes:\n",
    "# Extract the center coordinates, width, and height\n",
    "    x_center, y_center, width, height = bbox\n",
    "\n",
    "    x1 = x_center - width / 2\n",
    "    y1 = y_center - height / 2\n",
    "    x2 = x_center + width / 2\n",
    "    y2 = y_center + height / 2\n",
    "\n",
    "\n",
    "    # Draw the rectangle\n",
    "    draw.rectangle([x1, y1, x2, y2], outline=\"red\", width=2)\n",
    "\n",
    "# Display the image (if using Jupyter Notebook)\n",
    "image.show()\n",
    "\n",
    "# If not in a notebook, save or display the image as needed\n",
    "image.save('output_image_with_bbox_2.jpg')\n"
   ]
  }
 ],
 "metadata": {
  "environment": {
   "kernel": "conda-env-pytorch-pytorch",
   "name": "workbench-notebooks.m120",
   "type": "gcloud",
   "uri": "us-docker.pkg.dev/deeplearning-platform-release/gcr.io/workbench-notebooks:m120"
  },
  "kernelspec": {
   "display_name": "PyTorch 1-13",
   "language": "python",
   "name": "conda-env-pytorch-pytorch"
  },
  "language_info": {
   "codemirror_mode": {
    "name": "ipython",
    "version": 3
   },
   "file_extension": ".py",
   "mimetype": "text/x-python",
   "name": "python",
   "nbconvert_exporter": "python",
   "pygments_lexer": "ipython3",
   "version": "3.10.14"
  },
  "widgets": {
   "application/vnd.jupyter.widget-state+json": {
    "state": {},
    "version_major": 2,
    "version_minor": 0
   }
  }
 },
 "nbformat": 4,
 "nbformat_minor": 5
}
